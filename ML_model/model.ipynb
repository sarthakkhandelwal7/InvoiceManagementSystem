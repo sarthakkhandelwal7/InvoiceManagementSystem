{
  "nbformat": 4,
  "nbformat_minor": 5,
  "metadata": {
    "colab": {
      "name": "H2HBABBA2697_Rachel_milestone3.ipynb",
      "provenance": [],
      "collapsed_sections": []
    },
    "kernelspec": {
      "display_name": "Python 3",
      "language": "python",
      "name": "python3"
    },
    "language_info": {
      "codemirror_mode": {
        "name": "ipython",
        "version": 3
      },
      "file_extension": ".py",
      "mimetype": "text/x-python",
      "name": "python",
      "nbconvert_exporter": "python",
      "pygments_lexer": "ipython3",
      "version": "3.7.7"
    }
  },
  "cells": [
    {
      "cell_type": "code",
      "metadata": {
        "colab": {
          "base_uri": "https://localhost:8080/"
        },
        "id": "Kx-tWTQLFBrs",
        "outputId": "35149201-6b73-4e98-c607-963c98fc9368"
      },
      "source": [
        "# Installing category_encoders for TargetEncoder\n",
        "!pip install category_encoders"
      ],
      "id": "Kx-tWTQLFBrs",
      "execution_count": null,
      "outputs": [
        {
          "output_type": "stream",
          "text": [
            "Requirement already satisfied: category_encoders in /usr/local/lib/python3.7/dist-packages (2.2.2)\n",
            "Requirement already satisfied: patsy>=0.5.1 in /usr/local/lib/python3.7/dist-packages (from category_encoders) (0.5.1)\n",
            "Requirement already satisfied: scikit-learn>=0.20.0 in /usr/local/lib/python3.7/dist-packages (from category_encoders) (0.22.2.post1)\n",
            "Requirement already satisfied: statsmodels>=0.9.0 in /usr/local/lib/python3.7/dist-packages (from category_encoders) (0.10.2)\n",
            "Requirement already satisfied: scipy>=1.0.0 in /usr/local/lib/python3.7/dist-packages (from category_encoders) (1.4.1)\n",
            "Requirement already satisfied: numpy>=1.14.0 in /usr/local/lib/python3.7/dist-packages (from category_encoders) (1.19.5)\n",
            "Requirement already satisfied: pandas>=0.21.1 in /usr/local/lib/python3.7/dist-packages (from category_encoders) (1.1.5)\n",
            "Requirement already satisfied: six in /usr/local/lib/python3.7/dist-packages (from patsy>=0.5.1->category_encoders) (1.15.0)\n",
            "Requirement already satisfied: joblib>=0.11 in /usr/local/lib/python3.7/dist-packages (from scikit-learn>=0.20.0->category_encoders) (1.0.1)\n",
            "Requirement already satisfied: pytz>=2017.2 in /usr/local/lib/python3.7/dist-packages (from pandas>=0.21.1->category_encoders) (2018.9)\n",
            "Requirement already satisfied: python-dateutil>=2.7.3 in /usr/local/lib/python3.7/dist-packages (from pandas>=0.21.1->category_encoders) (2.8.1)\n"
          ],
          "name": "stdout"
        }
      ]
    },
    {
      "cell_type": "code",
      "metadata": {
        "id": "5b9e0dd0",
        "colab": {
          "base_uri": "https://localhost:8080/"
        },
        "outputId": "ef2d169c-2616-4965-f393-b765091c08e5"
      },
      "source": [
        "import pandas as pd\n",
        "import numpy as np \n",
        "from sklearn.feature_selection import VarianceThreshold\n",
        "from sklearn.model_selection import train_test_split\n",
        "import matplotlib.pyplot as plt\n",
        "from matplotlib import style\n",
        "import seaborn as sns\n",
        "from category_encoders import TargetEncoder\n",
        "from sklearn.preprocessing import StandardScaler, MinMaxScaler, LabelEncoder\n",
        "import warnings\n",
        "warnings.filterwarnings('ignore')"
      ],
      "id": "5b9e0dd0",
      "execution_count": null,
      "outputs": [
        {
          "output_type": "stream",
          "text": [
            "/usr/local/lib/python3.7/dist-packages/statsmodels/tools/_testing.py:19: FutureWarning: pandas.util.testing is deprecated. Use the functions in the public API at pandas.testing instead.\n",
            "  import pandas.util.testing as tm\n"
          ],
          "name": "stderr"
        }
      ]
    },
    {
      "cell_type": "code",
      "metadata": {
        "colab": {
          "base_uri": "https://localhost:8080/"
        },
        "id": "007b3d4d",
        "outputId": "b2edbb54-660a-4205-da36-d49ec6a1fec2"
      },
      "source": [
        "# Reading csv file\n",
        "data = pd.read_csv(r'H2HBABBA2697.csv')\n",
        "data.shape\n"
      ],
      "id": "007b3d4d",
      "execution_count": null,
      "outputs": [
        {
          "output_type": "execute_result",
          "data": {
            "text/plain": [
              "(50000, 19)"
            ]
          },
          "metadata": {
            "tags": []
          },
          "execution_count": 3
        }
      ]
    },
    {
      "cell_type": "code",
      "metadata": {
        "colab": {
          "base_uri": "https://localhost:8080/"
        },
        "id": "0ae122ee",
        "scrolled": true,
        "outputId": "9bb4823a-e189-4977-de53-9507d30dcfbd"
      },
      "source": [
        "data.info()"
      ],
      "id": "0ae122ee",
      "execution_count": null,
      "outputs": [
        {
          "output_type": "stream",
          "text": [
            "<class 'pandas.core.frame.DataFrame'>\n",
            "RangeIndex: 50000 entries, 0 to 49999\n",
            "Data columns (total 19 columns):\n",
            " #   Column                  Non-Null Count  Dtype  \n",
            "---  ------                  --------------  -----  \n",
            " 0   business_code           50000 non-null  object \n",
            " 1   cust_number             50000 non-null  object \n",
            " 2   name_customer           50000 non-null  object \n",
            " 3   clear_date              40000 non-null  object \n",
            " 4   buisness_year           50000 non-null  float64\n",
            " 5   doc_id                  50000 non-null  float64\n",
            " 6   posting_date            50000 non-null  object \n",
            " 7   document_create_date    50000 non-null  int64  \n",
            " 8   document_create_date.1  50000 non-null  int64  \n",
            " 9   due_in_date             50000 non-null  float64\n",
            " 10  invoice_currency        50000 non-null  object \n",
            " 11  document type           50000 non-null  object \n",
            " 12  posting_id              50000 non-null  float64\n",
            " 13  area_business           0 non-null      float64\n",
            " 14  total_open_amount       50000 non-null  float64\n",
            " 15  baseline_create_date    50000 non-null  float64\n",
            " 16  cust_payment_terms      50000 non-null  object \n",
            " 17  invoice_id              49996 non-null  float64\n",
            " 18  isOpen                  50000 non-null  int64  \n",
            "dtypes: float64(8), int64(3), object(8)\n",
            "memory usage: 7.2+ MB\n"
          ],
          "name": "stdout"
        }
      ]
    },
    {
      "cell_type": "code",
      "metadata": {
        "colab": {
          "base_uri": "https://localhost:8080/"
        },
        "id": "ea325e10",
        "scrolled": true,
        "outputId": "572d725f-fc2b-45c8-8022-bcac7b092c4a"
      },
      "source": [
        "data.isnull().sum()"
      ],
      "id": "ea325e10",
      "execution_count": null,
      "outputs": [
        {
          "output_type": "execute_result",
          "data": {
            "text/plain": [
              "business_code                 0\n",
              "cust_number                   0\n",
              "name_customer                 0\n",
              "clear_date                10000\n",
              "buisness_year                 0\n",
              "doc_id                        0\n",
              "posting_date                  0\n",
              "document_create_date          0\n",
              "document_create_date.1        0\n",
              "due_in_date                   0\n",
              "invoice_currency              0\n",
              "document type                 0\n",
              "posting_id                    0\n",
              "area_business             50000\n",
              "total_open_amount             0\n",
              "baseline_create_date          0\n",
              "cust_payment_terms            0\n",
              "invoice_id                    4\n",
              "isOpen                        0\n",
              "dtype: int64"
            ]
          },
          "metadata": {
            "tags": []
          },
          "execution_count": 5
        }
      ]
    },
    {
      "cell_type": "code",
      "metadata": {
        "colab": {
          "base_uri": "https://localhost:8080/"
        },
        "id": "90f33cc8",
        "outputId": "20fc91a6-665d-4b65-d9a9-fda5d2ddf651"
      },
      "source": [
        "# testing_data is the final data in which model has to predict\n",
        "testing_data = data[data['clear_date'].isnull()].copy()\n",
        "print(testing_data['clear_date'].isnull().sum())"
      ],
      "id": "90f33cc8",
      "execution_count": null,
      "outputs": [
        {
          "output_type": "stream",
          "text": [
            "10000\n"
          ],
          "name": "stdout"
        }
      ]
    },
    {
      "cell_type": "code",
      "metadata": {
        "colab": {
          "base_uri": "https://localhost:8080/"
        },
        "id": "a208c453",
        "outputId": "c1f89c44-7b0e-403b-a154-937157c477e7"
      },
      "source": [
        "training_data = data[data['clear_date'].notnull()].copy()\n",
        "print(training_data['clear_date'].notnull().sum())"
      ],
      "id": "a208c453",
      "execution_count": null,
      "outputs": [
        {
          "output_type": "stream",
          "text": [
            "40000\n"
          ],
          "name": "stdout"
        }
      ]
    },
    {
      "cell_type": "code",
      "metadata": {
        "colab": {
          "base_uri": "https://localhost:8080/"
        },
        "id": "22986097",
        "outputId": "20d38744-9b33-48a7-ef41-889544948a07"
      },
      "source": [
        "# Removed any column which has all the value \n",
        "\n",
        "training_data.dropna(how='all', inplace=True, axis=1)\n",
        "training_data.shape"
      ],
      "id": "22986097",
      "execution_count": null,
      "outputs": [
        {
          "output_type": "execute_result",
          "data": {
            "text/plain": [
              "(40000, 18)"
            ]
          },
          "metadata": {
            "tags": []
          },
          "execution_count": 8
        }
      ]
    },
    {
      "cell_type": "code",
      "metadata": {
        "id": "afa09b9a"
      },
      "source": [
        "# convert the data type of the date column to DateTime\n",
        "\n",
        "training_data['clear_date'] = pd.to_datetime(training_data['clear_date'])\n",
        "training_data['posting_date'] = pd.to_datetime(training_data['posting_date'])\n",
        "training_data['due_in_date'] = pd.to_datetime(training_data['due_in_date'], format='%Y%m%d')\n",
        "training_data['baseline_create_date'] = pd.to_datetime(training_data['baseline_create_date'], format='%Y%m%d')\n",
        "training_data['document_create_date.1'] = pd.to_datetime(training_data['document_create_date.1'], format='%Y%m%d')\n",
        "training_data['document_create_date'] = pd.to_datetime(training_data['document_create_date'], format='%Y%m%d')"
      ],
      "id": "afa09b9a",
      "execution_count": null,
      "outputs": []
    },
    {
      "cell_type": "code",
      "metadata": {
        "colab": {
          "base_uri": "https://localhost:8080/"
        },
        "id": "lljFr_C3kZWK",
        "outputId": "dc9cdd95-1522-440b-e6aa-96096db506b8"
      },
      "source": [
        "training_data.dtypes"
      ],
      "id": "lljFr_C3kZWK",
      "execution_count": null,
      "outputs": [
        {
          "output_type": "execute_result",
          "data": {
            "text/plain": [
              "business_code                     object\n",
              "cust_number                       object\n",
              "name_customer                     object\n",
              "clear_date                datetime64[ns]\n",
              "buisness_year                    float64\n",
              "doc_id                           float64\n",
              "posting_date              datetime64[ns]\n",
              "document_create_date      datetime64[ns]\n",
              "document_create_date.1    datetime64[ns]\n",
              "due_in_date               datetime64[ns]\n",
              "invoice_currency                  object\n",
              "document type                     object\n",
              "posting_id                       float64\n",
              "total_open_amount                float64\n",
              "baseline_create_date      datetime64[ns]\n",
              "cust_payment_terms                object\n",
              "invoice_id                       float64\n",
              "isOpen                             int64\n",
              "dtype: object"
            ]
          },
          "metadata": {
            "tags": []
          },
          "execution_count": 10
        }
      ]
    },
    {
      "cell_type": "code",
      "metadata": {
        "colab": {
          "base_uri": "https://localhost:8080/"
        },
        "id": "e0e706e0",
        "outputId": "67e879aa-9c58-48e9-8bdf-64e46cd77beb"
      },
      "source": [
        "# List of columns with constant features\n",
        "\n",
        "constant_features = [feat for feat in training_data.columns if training_data[feat].dtype not in [object, '<M8[ns]'] and training_data[feat].std() == 0]\n",
        "constant_features"
      ],
      "id": "e0e706e0",
      "execution_count": null,
      "outputs": [
        {
          "output_type": "execute_result",
          "data": {
            "text/plain": [
              "['posting_id', 'isOpen']"
            ]
          },
          "metadata": {
            "tags": []
          },
          "execution_count": 11
        }
      ]
    },
    {
      "cell_type": "code",
      "metadata": {
        "colab": {
          "base_uri": "https://localhost:8080/"
        },
        "id": "6c92cf76",
        "outputId": "42076c32-6b92-4f60-814e-00c5b1140a4b"
      },
      "source": [
        "def findDuplicateColumns(data):\n",
        "    \"\"\"\n",
        "    Function to find all duplicate columns\n",
        "    \"\"\"\n",
        "    duplicate_columns = set()\n",
        "    for i in range(data.shape[1]):\n",
        "        col1 = data.iloc[:, i]\n",
        "        for j in range(i+1, data.shape[1]):\n",
        "            col2 = data.iloc[:, j]\n",
        "            if col1.equals(col2):\n",
        "                duplicate_columns.add(data.columns.values[j])\n",
        "        \n",
        "    return list(duplicate_columns)\n",
        "\n",
        "duplicate_columns = findDuplicateColumns(training_data)\n",
        "duplicate_columns"
      ],
      "id": "6c92cf76",
      "execution_count": null,
      "outputs": [
        {
          "output_type": "execute_result",
          "data": {
            "text/plain": [
              "[]"
            ]
          },
          "metadata": {
            "tags": []
          },
          "execution_count": 12
        }
      ]
    },
    {
      "cell_type": "code",
      "metadata": {
        "colab": {
          "base_uri": "https://localhost:8080/"
        },
        "id": "3f3adf82",
        "outputId": "a0bfd169-535f-45aa-a677-0b8befd8ea90"
      },
      "source": [
        "# Unique value in each column and their counts\n",
        "for feat in training_data.columns:\n",
        "    print(f'{feat}\\n {training_data[feat].value_counts()}')\n",
        "    print('\\n\\n')\n"
      ],
      "id": "3f3adf82",
      "execution_count": null,
      "outputs": [
        {
          "output_type": "stream",
          "text": [
            "business_code\n",
            " U001    36117\n",
            "CA02     3203\n",
            "U013      535\n",
            "U002      134\n",
            "U005        9\n",
            "U007        2\n",
            "Name: business_code, dtype: int64\n",
            "\n",
            "\n",
            "\n",
            "cust_number\n",
            " 0200769623    9056\n",
            "0200726979    1461\n",
            "0200762301    1194\n",
            "0200759878    1072\n",
            "0200794332     852\n",
            "              ... \n",
            "0100047799       1\n",
            "0200585100       1\n",
            "200744707        1\n",
            "0200389625       1\n",
            "100053653        1\n",
            "Name: cust_number, Length: 1325, dtype: int64\n",
            "\n",
            "\n",
            "\n",
            "name_customer\n",
            " WAL-MAR systems        923\n",
            "WAL-MAR corporation    919\n",
            "WAL-MAR trust          906\n",
            "WAL-MAR                900\n",
            "WAL-MAR llc            897\n",
            "                      ... \n",
            "HIGHLAN foundation       1\n",
            "SHEET trust              1\n",
            "SUPERV trust             1\n",
            "EB llc                   1\n",
            "ASTR in                  1\n",
            "Name: name_customer, Length: 3924, dtype: int64\n",
            "\n",
            "\n",
            "\n",
            "clear_date\n",
            " 2019-09-03    287\n",
            "2019-10-15    264\n",
            "2019-11-18    256\n",
            "2019-11-01    255\n",
            "2019-07-08    250\n",
            "             ... \n",
            "2020-05-12      1\n",
            "2020-05-19      1\n",
            "2019-08-17      1\n",
            "2019-05-18      1\n",
            "2019-06-22      1\n",
            "Name: clear_date, Length: 401, dtype: int64\n",
            "\n",
            "\n",
            "\n",
            "buisness_year\n",
            " 2019.0    34645\n",
            "2020.0     5355\n",
            "Name: buisness_year, dtype: int64\n",
            "\n",
            "\n",
            "\n",
            "doc_id\n",
            " 1.929735e+09    3\n",
            "1.929952e+09    3\n",
            "1.929380e+09    3\n",
            "1.930019e+09    3\n",
            "1.930401e+09    3\n",
            "               ..\n",
            "1.930283e+09    1\n",
            "1.929709e+09    1\n",
            "1.928987e+09    1\n",
            "1.930212e+09    1\n",
            "1.930302e+09    1\n",
            "Name: doc_id, Length: 39141, dtype: int64\n",
            "\n",
            "\n",
            "\n",
            "posting_date\n",
            " 2019-03-06    172\n",
            "2019-04-03    155\n",
            "2019-05-08    155\n",
            "2019-03-20    153\n",
            "2019-05-21    150\n",
            "             ... \n",
            "2019-12-26      9\n",
            "2020-02-27      4\n",
            "2019-12-27      3\n",
            "2019-12-22      1\n",
            "2019-12-28      1\n",
            "Name: posting_date, Length: 423, dtype: int64\n",
            "\n",
            "\n",
            "\n",
            "document_create_date\n",
            " 2019-05-21    174\n",
            "2019-06-25    169\n",
            "2019-03-26    167\n",
            "2019-03-05    161\n",
            "2019-08-21    158\n",
            "             ... \n",
            "2019-12-27      3\n",
            "2018-12-28      3\n",
            "2020-01-19      2\n",
            "2019-12-21      2\n",
            "2020-02-28      1\n",
            "Name: document_create_date, Length: 425, dtype: int64\n",
            "\n",
            "\n",
            "\n",
            "document_create_date.1\n",
            " 2019-03-06    172\n",
            "2019-05-08    155\n",
            "2019-04-03    155\n",
            "2019-03-20    153\n",
            "2019-05-21    150\n",
            "             ... \n",
            "2020-02-27      4\n",
            "2019-12-27      3\n",
            "2018-12-21      1\n",
            "2019-12-22      1\n",
            "2019-12-28      1\n",
            "Name: document_create_date.1, Length: 424, dtype: int64\n",
            "\n",
            "\n",
            "\n",
            "due_in_date\n",
            " 2019-06-08    183\n",
            "2019-02-08    161\n",
            "2019-05-09    151\n",
            "2019-04-24    149\n",
            "2019-12-26    147\n",
            "             ... \n",
            "2020-05-15      1\n",
            "2020-05-09      1\n",
            "2020-06-06      1\n",
            "2020-01-07      1\n",
            "2020-04-28      1\n",
            "Name: due_in_date, Length: 485, dtype: int64\n",
            "\n",
            "\n",
            "\n",
            "invoice_currency\n",
            " USD    36797\n",
            "CAD     3203\n",
            "Name: invoice_currency, dtype: int64\n",
            "\n",
            "\n",
            "\n",
            "document type\n",
            " RV    39996\n",
            "X2        4\n",
            "Name: document type, dtype: int64\n",
            "\n",
            "\n",
            "\n",
            "posting_id\n",
            " 1.0    40000\n",
            "Name: posting_id, dtype: int64\n",
            "\n",
            "\n",
            "\n",
            "total_open_amount\n",
            " 1898.20     100\n",
            "1897.50      79\n",
            "471.56       69\n",
            "943.12       56\n",
            "8041.59      47\n",
            "           ... \n",
            "16377.05      1\n",
            "553.56        1\n",
            "16408.80      1\n",
            "550.44        1\n",
            "13771.56      1\n",
            "Name: total_open_amount, Length: 35609, dtype: int64\n",
            "\n",
            "\n",
            "\n",
            "baseline_create_date\n",
            " 2019-04-16    207\n",
            "2019-08-16    187\n",
            "2019-05-01    187\n",
            "2019-05-16    186\n",
            "2019-10-16    181\n",
            "             ... \n",
            "2020-03-15      1\n",
            "2020-03-02      1\n",
            "2020-03-06      1\n",
            "2020-03-24      1\n",
            "2020-03-19      1\n",
            "Name: baseline_create_date, Length: 432, dtype: int64\n",
            "\n",
            "\n",
            "\n",
            "cust_payment_terms\n",
            " NAA8    15883\n",
            "NAH4    10683\n",
            "CA10     3113\n",
            "NAC6     1335\n",
            "NAM4     1097\n",
            "        ...  \n",
            "NACE        1\n",
            "NAUW        1\n",
            "NABD        1\n",
            "NATY        1\n",
            "NANC        1\n",
            "Name: cust_payment_terms, Length: 71, dtype: int64\n",
            "\n",
            "\n",
            "\n",
            "invoice_id\n",
            " 1.928661e+09    3\n",
            "1.930401e+09    3\n",
            "1.929735e+09    3\n",
            "1.929813e+09    3\n",
            "1.930019e+09    3\n",
            "               ..\n",
            "1.930283e+09    1\n",
            "1.929709e+09    1\n",
            "1.928987e+09    1\n",
            "1.930212e+09    1\n",
            "1.930302e+09    1\n",
            "Name: invoice_id, Length: 39137, dtype: int64\n",
            "\n",
            "\n",
            "\n",
            "isOpen\n",
            " 0    40000\n",
            "Name: isOpen, dtype: int64\n",
            "\n",
            "\n",
            "\n"
          ],
          "name": "stdout"
        }
      ]
    },
    {
      "cell_type": "code",
      "metadata": {
        "id": "d3e988ce"
      },
      "source": [
        "# Combining ['U013','U002','U005','U007'] in one group as they are having less frequency\n",
        "training_data['business_code']=np.where(training_data['business_code'].isin(['U013','U002','U005','U007']),'other_business_code',training_data['business_code'])"
      ],
      "id": "d3e988ce",
      "execution_count": null,
      "outputs": []
    },
    {
      "cell_type": "code",
      "metadata": {
        "colab": {
          "base_uri": "https://localhost:8080/"
        },
        "id": "GTpOo_2-i1bW",
        "outputId": "bd72bfa8-a2ef-4f7a-f7d2-94dfd9acdeae"
      },
      "source": [
        "# Checking for common values\n",
        "print(list(training_data['document_create_date.1'] == training_data['baseline_create_date']).count(True))\n",
        "print(list(training_data['document_create_date.1'] == training_data['posting_date']).count(True))\n",
        "print(list(training_data['document_create_date'] == training_data['document_create_date.1']).count(True))\n",
        "print(list(training_data['document_create_date'] == training_data['posting_date']).count(True))\n",
        "print(list(training_data['baseline_create_date'] == training_data['posting_date']).count(True))"
      ],
      "id": "GTpOo_2-i1bW",
      "execution_count": null,
      "outputs": [
        {
          "output_type": "stream",
          "text": [
            "35541\n",
            "39996\n",
            "17043\n",
            "17047\n",
            "35537\n"
          ],
          "name": "stdout"
        }
      ]
    },
    {
      "cell_type": "code",
      "metadata": {
        "colab": {
          "base_uri": "https://localhost:8080/"
        },
        "id": "ad118bca",
        "outputId": "901a7a37-eb5c-407a-9a6d-43dbb4465d4f"
      },
      "source": [
        "training_data.nunique()"
      ],
      "id": "ad118bca",
      "execution_count": null,
      "outputs": [
        {
          "output_type": "execute_result",
          "data": {
            "text/plain": [
              "business_code                 3\n",
              "cust_number                1325\n",
              "name_customer              3924\n",
              "clear_date                  401\n",
              "buisness_year                 2\n",
              "doc_id                    39141\n",
              "posting_date                423\n",
              "document_create_date        425\n",
              "document_create_date.1      424\n",
              "due_in_date                 485\n",
              "invoice_currency              2\n",
              "document type                 2\n",
              "posting_id                    1\n",
              "total_open_amount         35609\n",
              "baseline_create_date        432\n",
              "cust_payment_terms           71\n",
              "invoice_id                39137\n",
              "isOpen                        1\n",
              "dtype: int64"
            ]
          },
          "metadata": {
            "tags": []
          },
          "execution_count": 16
        }
      ]
    },
    {
      "cell_type": "code",
      "metadata": {
        "colab": {
          "base_uri": "https://localhost:8080/"
        },
        "id": "2e392094",
        "outputId": "186ba113-79a4-4689-e34e-c110fdef39f4"
      },
      "source": [
        "# Dropping these columns to prevent overfitting\n",
        "\n",
        "cols_to_remove = set(duplicate_columns + ['document_create_date.1', 'doc_id', 'invoice_id', 'posting_id', 'document type'] + constant_features)\n",
        "training_data.drop(inplace=True, axis=1, columns=cols_to_remove)\n",
        "training_data.shape"
      ],
      "id": "2e392094",
      "execution_count": null,
      "outputs": [
        {
          "output_type": "execute_result",
          "data": {
            "text/plain": [
              "(40000, 12)"
            ]
          },
          "metadata": {
            "tags": []
          },
          "execution_count": 17
        }
      ]
    },
    {
      "cell_type": "code",
      "metadata": {
        "colab": {
          "base_uri": "https://localhost:8080/"
        },
        "id": "337d0889",
        "outputId": "97f9829b-7752-4ada-969c-74df849d1da4"
      },
      "source": [
        "print(training_data.duplicated().sum())\n",
        "training_data.shape"
      ],
      "id": "337d0889",
      "execution_count": null,
      "outputs": [
        {
          "output_type": "stream",
          "text": [
            "864\n"
          ],
          "name": "stdout"
        },
        {
          "output_type": "execute_result",
          "data": {
            "text/plain": [
              "(40000, 12)"
            ]
          },
          "metadata": {
            "tags": []
          },
          "execution_count": 18
        }
      ]
    },
    {
      "cell_type": "code",
      "metadata": {
        "colab": {
          "base_uri": "https://localhost:8080/"
        },
        "id": "f601dc8e",
        "scrolled": true,
        "outputId": "e4822812-7748-4de9-e493-86ae77dd98a1"
      },
      "source": [
        "# Removed duplicate rows\n",
        "\n",
        "training_data.drop_duplicates(keep='first', inplace=True)\n",
        "training_data.shape"
      ],
      "id": "f601dc8e",
      "execution_count": null,
      "outputs": [
        {
          "output_type": "execute_result",
          "data": {
            "text/plain": [
              "(39136, 12)"
            ]
          },
          "metadata": {
            "tags": []
          },
          "execution_count": 19
        }
      ]
    },
    {
      "cell_type": "code",
      "metadata": {
        "id": "d186be83",
        "scrolled": false
      },
      "source": [
        "# Sorting DF with respect to feature posting_date to train model on old data\n",
        "\n",
        "training_data.sort_values(by=['posting_date'], inplace=True)\n",
        "training_data.reset_index(drop=True, inplace=True)\n"
      ],
      "id": "d186be83",
      "execution_count": null,
      "outputs": []
    },
    {
      "cell_type": "code",
      "metadata": {
        "id": "fc28f10f",
        "scrolled": true
      },
      "source": [
        "# Spliting datetime features to year, mont and quarter\n",
        "\n",
        "for feature in ['posting_date', 'due_in_date', 'baseline_create_date', 'document_create_date']:\n",
        "    training_data[feature+'_year'] = training_data[feature].dt.year\n",
        "    training_data[feature+'_month'] = training_data[feature].dt.month\n",
        "    training_data[feature+'_quarter'] = training_data[feature].dt.quarter\n"
      ],
      "id": "fc28f10f",
      "execution_count": null,
      "outputs": []
    },
    {
      "cell_type": "code",
      "metadata": {
        "id": "78f5add4"
      },
      "source": [
        "# Creating target column\n",
        "training_data['delay'] = training_data.loc[:, 'clear_date'] - training_data.loc[:, 'due_in_date']\n",
        "training_data['delay'] = training_data['delay'].astype('timedelta64[D]').astype(int)\n",
        "\n",
        "# Delta_due_post: Difference between due_in_date and posting_date\n",
        "training_data['Delta_due_post'] = training_data.loc[: , 'due_in_date']-training_data.loc[:,'posting_date']\n",
        "training_data['Delta_due_post'] = training_data['Delta_due_post'].astype('timedelta64[D]').astype(int)"
      ],
      "id": "78f5add4",
      "execution_count": null,
      "outputs": []
    },
    {
      "cell_type": "code",
      "metadata": {
        "id": "033229ea"
      },
      "source": [
        "# Deleting datetime column as now they are redundant after spliting them into their sub features\n",
        "training_data.drop(inplace=True, columns=['clear_date', 'posting_date', 'due_in_date','baseline_create_date', 'document_create_date'], axis=1)"
      ],
      "id": "033229ea",
      "execution_count": null,
      "outputs": []
    },
    {
      "cell_type": "markdown",
      "metadata": {
        "id": "30d2881c"
      },
      "source": [
        "## Spliting Training data"
      ],
      "id": "30d2881c"
    },
    {
      "cell_type": "code",
      "metadata": {
        "id": "02f7c98a"
      },
      "source": [
        "X = training_data.drop(['delay'], axis=1)\n",
        "Y = training_data['delay']"
      ],
      "id": "02f7c98a",
      "execution_count": null,
      "outputs": []
    },
    {
      "cell_type": "code",
      "metadata": {
        "id": "1d0cc03a",
        "scrolled": true
      },
      "source": [
        "# Spliting training data into train, test and validation set\n",
        "\n",
        "X_train, X_test_set, Y_train, Y_test_set = train_test_split(X, Y, test_size=0.3, shuffle=False, random_state=0)\n",
        "X_validation, X_test, Y_validation, Y_test = train_test_split(X_test_set, Y_test_set, test_size=0.5, shuffle=False, random_state=0)"
      ],
      "id": "1d0cc03a",
      "execution_count": null,
      "outputs": []
    },
    {
      "cell_type": "code",
      "metadata": {
        "id": "4a8fde43"
      },
      "source": [
        "def drop_features(features):\n",
        "    \"\"\"\n",
        "    Function to drop columns from train, test and validation sets\n",
        "    \"\"\"\n",
        "    X_train.drop(inplace=True, axis=1, columns=features)\n",
        "    X_validation.drop(inplace=True, axis=1, columns=features)\n",
        "    X_test.drop(inplace=True, axis=1, columns=features)\n"
      ],
      "id": "4a8fde43",
      "execution_count": null,
      "outputs": []
    },
    {
      "cell_type": "markdown",
      "metadata": {
        "id": "59aed550"
      },
      "source": [
        "## EDA"
      ],
      "id": "59aed550"
    },
    {
      "cell_type": "code",
      "metadata": {
        "colab": {
          "base_uri": "https://localhost:8080/",
          "height": 296
        },
        "id": "3c0909b1",
        "scrolled": true,
        "outputId": "e4013d7e-f1d4-45a0-eb9a-3b8965a358c2"
      },
      "source": [
        "# Below graph is right skewed\n",
        "sns.distplot(Y_train)"
      ],
      "id": "3c0909b1",
      "execution_count": null,
      "outputs": [
        {
          "output_type": "execute_result",
          "data": {
            "text/plain": [
              "<matplotlib.axes._subplots.AxesSubplot at 0x7f30c3d023d0>"
            ]
          },
          "metadata": {
            "tags": []
          },
          "execution_count": 27
        },
        {
          "output_type": "display_data",
          "data": {
            "image/png": "[encoded data removed]",
            "text/plain": [
              "<Figure size 432x288 with 1 Axes>"
            ]
          },
          "metadata": {
            "tags": [],
            "needs_background": "light"
          }
        }
      ]
    },
    {
      "cell_type": "code",
      "metadata": {
        "id": "fd6afeba",
        "scrolled": true,
        "colab": {
          "base_uri": "https://localhost:8080/",
          "height": 296
        },
        "outputId": "d1803f98-168b-4ccf-c3a3-1adae81a138a"
      },
      "source": [
        "sns.scatterplot(data=X_train.merge(Y_train,on = X_train.index), x=\"delay\", y='posting_date_month')"
      ],
      "id": "fd6afeba",
      "execution_count": null,
      "outputs": [
        {
          "output_type": "execute_result",
          "data": {
            "text/plain": [
              "<matplotlib.axes._subplots.AxesSubplot at 0x7f30b8e37a50>"
            ]
          },
          "metadata": {
            "tags": []
          },
          "execution_count": 29
        },
        {
          "output_type": "display_data",
          "data": {
            "image/png": "[encoded data removed]",
            "text/plain": [
              "<Figure size 432x288 with 1 Axes>"
            ]
          },
          "metadata": {
            "tags": [],
            "needs_background": "light"
          }
        }
      ]
    },
    {
      "cell_type": "code",
      "metadata": {
        "id": "4d1e6a52",
        "scrolled": true,
        "colab": {
          "base_uri": "https://localhost:8080/",
          "height": 296
        },
        "outputId": "ee66bc74-6a21-4efd-bcd0-79a0a7c16f8c"
      },
      "source": [
        "sns.scatterplot(data=X_train.merge(Y_train,on = X_train.index), x=\"delay\", y='posting_date_quarter')"
      ],
      "id": "4d1e6a52",
      "execution_count": null,
      "outputs": [
        {
          "output_type": "execute_result",
          "data": {
            "text/plain": [
              "<matplotlib.axes._subplots.AxesSubplot at 0x7f30b8dc7fd0>"
            ]
          },
          "metadata": {
            "tags": []
          },
          "execution_count": 30
        },
        {
          "output_type": "display_data",
          "data": {
            "image/png": "[encoded data removed]",
            "text/plain": [
              "<Figure size 432x288 with 1 Axes>"
            ]
          },
          "metadata": {
            "tags": [],
            "needs_background": "light"
          }
        }
      ]
    },
    {
      "cell_type": "code",
      "metadata": {
        "id": "c0db6a19",
        "scrolled": true,
        "colab": {
          "base_uri": "https://localhost:8080/",
          "height": 296
        },
        "outputId": "dd011b4c-3652-4c7f-c607-b3a6e1d4f19d"
      },
      "source": [
        "sns.scatterplot(data=X_train.merge(Y_train,on = X_train.index), x=\"delay\", y='due_in_date_month')"
      ],
      "id": "c0db6a19",
      "execution_count": null,
      "outputs": [
        {
          "output_type": "execute_result",
          "data": {
            "text/plain": [
              "<matplotlib.axes._subplots.AxesSubplot at 0x7f30b8d3a210>"
            ]
          },
          "metadata": {
            "tags": []
          },
          "execution_count": 31
        },
        {
          "output_type": "display_data",
          "data": {
            "image/png": "[encoded data removed]",
            "text/plain": [
              "<Figure size 432x288 with 1 Axes>"
            ]
          },
          "metadata": {
            "tags": [],
            "needs_background": "light"
          }
        }
      ]
    },
    {
      "cell_type": "code",
      "metadata": {
        "id": "fb1d4508",
        "scrolled": true,
        "colab": {
          "base_uri": "https://localhost:8080/",
          "height": 296
        },
        "outputId": "82286524-bdb8-4095-b770-254730f1c0f3"
      },
      "source": [
        "sns.scatterplot(data=X_train.merge(Y_train,on = X_train.index), x=\"delay\", y='due_in_date_quarter')"
      ],
      "id": "fb1d4508",
      "execution_count": null,
      "outputs": [
        {
          "output_type": "execute_result",
          "data": {
            "text/plain": [
              "<matplotlib.axes._subplots.AxesSubplot at 0x7f30b8d27e90>"
            ]
          },
          "metadata": {
            "tags": []
          },
          "execution_count": 32
        },
        {
          "output_type": "display_data",
          "data": {
            "image/png": "[encoded data removed]",
            "text/plain": [
              "<Figure size 432x288 with 1 Axes>"
            ]
          },
          "metadata": {
            "tags": [],
            "needs_background": "light"
          }
        }
      ]
    },
    {
      "cell_type": "code",
      "metadata": {
        "id": "60f2ccfd",
        "colab": {
          "base_uri": "https://localhost:8080/",
          "height": 296
        },
        "outputId": "b9eed208-4f12-46a8-cec9-333d92b0973c"
      },
      "source": [
        "sns.scatterplot(data=X_train.merge(Y_train,on = X_train.index), x=\"delay\", y='baseline_create_date_month')"
      ],
      "id": "60f2ccfd",
      "execution_count": null,
      "outputs": [
        {
          "output_type": "execute_result",
          "data": {
            "text/plain": [
              "<matplotlib.axes._subplots.AxesSubplot at 0x7f30b8cded10>"
            ]
          },
          "metadata": {
            "tags": []
          },
          "execution_count": 33
        },
        {
          "output_type": "display_data",
          "data": {
            "image/png": "[encoded data removed]",
            "text/plain": [
              "<Figure size 432x288 with 1 Axes>"
            ]
          },
          "metadata": {
            "tags": [],
            "needs_background": "light"
          }
        }
      ]
    },
    {
      "cell_type": "code",
      "metadata": {
        "id": "6ca12c14",
        "colab": {
          "base_uri": "https://localhost:8080/",
          "height": 296
        },
        "outputId": "a1b3eb43-a700-4d8b-8098-9155cab01ce5"
      },
      "source": [
        "sns.scatterplot(data=X_train.merge(Y_train,on = X_train.index), x=\"delay\", y='baseline_create_date_quarter')"
      ],
      "id": "6ca12c14",
      "execution_count": null,
      "outputs": [
        {
          "output_type": "execute_result",
          "data": {
            "text/plain": [
              "<matplotlib.axes._subplots.AxesSubplot at 0x7f30b8c20210>"
            ]
          },
          "metadata": {
            "tags": []
          },
          "execution_count": 34
        },
        {
          "output_type": "display_data",
          "data": {
            "image/png": "[encoded data removed]",
            "text/plain": [
              "<Figure size 432x288 with 1 Axes>"
            ]
          },
          "metadata": {
            "tags": [],
            "needs_background": "light"
          }
        }
      ]
    },
    {
      "cell_type": "code",
      "metadata": {
        "id": "tYw_GGgFjdNf",
        "colab": {
          "base_uri": "https://localhost:8080/",
          "height": 296
        },
        "outputId": "97e00033-6087-4f8c-cadd-e440b485fb4c"
      },
      "source": [
        "# Constant Feature\n",
        "sns.scatterplot(data=X_train.merge(Y_train,on = X_train.index), x=\"delay\", y='buisness_year')"
      ],
      "id": "tYw_GGgFjdNf",
      "execution_count": null,
      "outputs": [
        {
          "output_type": "execute_result",
          "data": {
            "text/plain": [
              "<matplotlib.axes._subplots.AxesSubplot at 0x7f30b8b9f5d0>"
            ]
          },
          "metadata": {
            "tags": []
          },
          "execution_count": 35
        },
        {
          "output_type": "display_data",
          "data": {
            "image/png": "[encoded data removed]",
            "text/plain": [
              "<Figure size 432x288 with 1 Axes>"
            ]
          },
          "metadata": {
            "tags": [],
            "needs_background": "light"
          }
        }
      ]
    },
    {
      "cell_type": "code",
      "metadata": {
        "id": "T6OrHhkckgug",
        "colab": {
          "base_uri": "https://localhost:8080/",
          "height": 296
        },
        "outputId": "74c5e2c8-1194-496a-e82f-59d04f01736f"
      },
      "source": [
        "# Constant Feature\n",
        "sns.scatterplot(data=X_train.merge(Y_train,on = X_train.index), x=\"delay\", y='posting_date_year')"
      ],
      "id": "T6OrHhkckgug",
      "execution_count": null,
      "outputs": [
        {
          "output_type": "execute_result",
          "data": {
            "text/plain": [
              "<matplotlib.axes._subplots.AxesSubplot at 0x7f30b8b10110>"
            ]
          },
          "metadata": {
            "tags": []
          },
          "execution_count": 36
        },
        {
          "output_type": "display_data",
          "data": {
            "image/png": "[encoded data removed]",
            "text/plain": [
              "<Figure size 432x288 with 1 Axes>"
            ]
          },
          "metadata": {
            "tags": [],
            "needs_background": "light"
          }
        }
      ]
    },
    {
      "cell_type": "code",
      "metadata": {
        "id": "l9l4e4qdkjog",
        "colab": {
          "base_uri": "https://localhost:8080/",
          "height": 296
        },
        "outputId": "e744c140-e0a1-420b-e054-577b97de7f1d"
      },
      "source": [
        "# Constant Feature\n",
        "sns.scatterplot(data=X_train.merge(Y_train,on = X_train.index), x=\"delay\", y='due_in_date_year')"
      ],
      "id": "l9l4e4qdkjog",
      "execution_count": null,
      "outputs": [
        {
          "output_type": "execute_result",
          "data": {
            "text/plain": [
              "<matplotlib.axes._subplots.AxesSubplot at 0x7f30b8a95690>"
            ]
          },
          "metadata": {
            "tags": []
          },
          "execution_count": 37
        },
        {
          "output_type": "display_data",
          "data": {
            "image/png": "[encoded data removed]",
            "text/plain": [
              "<Figure size 432x288 with 1 Axes>"
            ]
          },
          "metadata": {
            "tags": [],
            "needs_background": "light"
          }
        }
      ]
    },
    {
      "cell_type": "code",
      "metadata": {
        "id": "4NkKZvWtkncp",
        "colab": {
          "base_uri": "https://localhost:8080/",
          "height": 296
        },
        "outputId": "8f47f43d-d672-48e9-d950-ec069136f0da"
      },
      "source": [
        "# Constant Feature\n",
        "sns.scatterplot(data=X_train.merge(Y_train,on = X_train.index), x=\"delay\", y='baseline_create_date_year')"
      ],
      "id": "4NkKZvWtkncp",
      "execution_count": null,
      "outputs": [
        {
          "output_type": "execute_result",
          "data": {
            "text/plain": [
              "<matplotlib.axes._subplots.AxesSubplot at 0x7f30b89fff50>"
            ]
          },
          "metadata": {
            "tags": []
          },
          "execution_count": 38
        },
        {
          "output_type": "display_data",
          "data": {
            "image/png": "[encoded data removed]",
            "text/plain": [
              "<Figure size 432x288 with 1 Axes>"
            ]
          },
          "metadata": {
            "tags": [],
            "needs_background": "light"
          }
        }
      ]
    },
    {
      "cell_type": "code",
      "metadata": {
        "id": "7towkCAjkpgz",
        "colab": {
          "base_uri": "https://localhost:8080/",
          "height": 296
        },
        "outputId": "f4e4cd47-b6a0-4925-e061-21ed7dab9c9d"
      },
      "source": [
        "# Constant Feature\n",
        "sns.scatterplot(data=X_train.merge(Y_train,on = X_train.index), x=\"delay\", y='document_create_date_year')"
      ],
      "id": "7towkCAjkpgz",
      "execution_count": null,
      "outputs": [
        {
          "output_type": "execute_result",
          "data": {
            "text/plain": [
              "<matplotlib.axes._subplots.AxesSubplot at 0x7f30b897c250>"
            ]
          },
          "metadata": {
            "tags": []
          },
          "execution_count": 39
        },
        {
          "output_type": "display_data",
          "data": {
            "image/png": "[encoded data removed]",
            "text/plain": [
              "<Figure size 432x288 with 1 Axes>"
            ]
          },
          "metadata": {
            "tags": [],
            "needs_background": "light"
          }
        }
      ]
    },
    {
      "cell_type": "markdown",
      "metadata": {
        "id": "807f43d2"
      },
      "source": [
        "## Feature engineering"
      ],
      "id": "807f43d2"
    },
    {
      "cell_type": "code",
      "metadata": {
        "id": "43408e57",
        "scrolled": false,
        "colab": {
          "base_uri": "https://localhost:8080/"
        },
        "outputId": "2fd58984-e445-49ba-c7de-733ca38f95f5"
      },
      "source": [
        "feature_to_encode = [col for col in training_data.columns if col != 'invoice_currency' and training_data[col].dtype == object]\n",
        "feature_to_encode"
      ],
      "id": "43408e57",
      "execution_count": null,
      "outputs": [
        {
          "output_type": "execute_result",
          "data": {
            "text/plain": [
              "['business_code', 'cust_number', 'name_customer', 'cust_payment_terms']"
            ]
          },
          "metadata": {
            "tags": []
          },
          "execution_count": 40
        }
      ]
    },
    {
      "cell_type": "code",
      "metadata": {
        "id": "da5765c1",
        "scrolled": true
      },
      "source": [
        "# Using target encoding to encode categorical features\n",
        "\n",
        "target_encoder = TargetEncoder(cols=feature_to_encode)\n",
        "X_train = target_encoder.fit_transform(X_train, Y_train)\n",
        "X_validation = target_encoder.transform(X_validation)\n",
        "X_test = target_encoder.transform(X_test)"
      ],
      "id": "da5765c1",
      "execution_count": null,
      "outputs": []
    },
    {
      "cell_type": "code",
      "metadata": {
        "id": "8704da5f"
      },
      "source": [
        "# Using label elcoding for invoice_currency as it has only 2 unique features\n",
        "\n",
        "label_encoder = LabelEncoder()\n",
        "X_train['invoice_currency'] = label_encoder.fit_transform(X_train['invoice_currency'])\n",
        "X_validation['invoice_currency'] = label_encoder.transform(X_validation['invoice_currency'])\n",
        "X_test['invoice_currency'] = label_encoder.transform(X_test['invoice_currency'])"
      ],
      "id": "8704da5f",
      "execution_count": null,
      "outputs": []
    },
    {
      "cell_type": "code",
      "metadata": {
        "colab": {
          "base_uri": "https://localhost:8080/"
        },
        "id": "87v3UL-V2iHq",
        "outputId": "77c547d0-02d7-4cab-b1cd-64bc6fd12a76"
      },
      "source": [
        "X_train.shape, X_validation.shape, X_test.shape"
      ],
      "id": "87v3UL-V2iHq",
      "execution_count": null,
      "outputs": [
        {
          "output_type": "execute_result",
          "data": {
            "text/plain": [
              "((27395, 20), (5870, 20), (5871, 20))"
            ]
          },
          "metadata": {
            "tags": []
          },
          "execution_count": 43
        }
      ]
    },
    {
      "cell_type": "markdown",
      "metadata": {
        "id": "sZseplisM7sA"
      },
      "source": [
        "## Feature selection"
      ],
      "id": "sZseplisM7sA"
    },
    {
      "cell_type": "code",
      "metadata": {
        "colab": {
          "base_uri": "https://localhost:8080/"
        },
        "id": "49a77c06",
        "scrolled": false,
        "outputId": "b5750071-4a2b-4adc-f628-279f3ffcd656"
      },
      "source": [
        "# Removing quasi constant features\n",
        "\n",
        "sel = VarianceThreshold(threshold=0.01)  # 0.1 indicates 99% of observations approximately\n",
        "sel.fit(X_train)\n",
        "len(X_train.columns[sel.get_support()])\n",
        "quasi_constants = [x for x in X_train.columns if x not in X_train.columns[sel.get_support()]]\n",
        "drop_features(quasi_constants) # droping features\n",
        "quasi_constants"
      ],
      "id": "49a77c06",
      "execution_count": null,
      "outputs": [
        {
          "output_type": "execute_result",
          "data": {
            "text/plain": [
              "['buisness_year',\n",
              " 'posting_date_year',\n",
              " 'due_in_date_year',\n",
              " 'baseline_create_date_year',\n",
              " 'document_create_date_year']"
            ]
          },
          "metadata": {
            "tags": []
          },
          "execution_count": 44
        }
      ]
    },
    {
      "cell_type": "code",
      "metadata": {
        "id": "96ff039f"
      },
      "source": [
        "Q1 = X_train.quantile(.25)\n",
        "Q3 = X_train.quantile(.75)\n",
        "IQR = Q3 - Q1"
      ],
      "id": "96ff039f",
      "execution_count": null,
      "outputs": []
    },
    {
      "cell_type": "code",
      "metadata": {
        "id": "69f82a7d"
      },
      "source": [
        "upper_bound = Q3 + 1.5 * IQR\n",
        "lower_bound = Q1 - 1.5 * IQR"
      ],
      "id": "69f82a7d",
      "execution_count": null,
      "outputs": []
    },
    {
      "cell_type": "code",
      "metadata": {
        "colab": {
          "base_uri": "https://localhost:8080/"
        },
        "id": "416ff24c",
        "outputId": "b72b9486-c5a6-4bfc-cf0b-c9c6af1f476d"
      },
      "source": [
        "for col in X_train.columns:\n",
        "    print(X_train[col].value_counts().sum(), col)"
      ],
      "id": "416ff24c",
      "execution_count": null,
      "outputs": [
        {
          "output_type": "stream",
          "text": [
            "27395 business_code\n",
            "27395 cust_number\n",
            "27395 name_customer\n",
            "27395 invoice_currency\n",
            "27395 total_open_amount\n",
            "27395 cust_payment_terms\n",
            "27395 posting_date_month\n",
            "27395 posting_date_quarter\n",
            "27395 due_in_date_month\n",
            "27395 due_in_date_quarter\n",
            "27395 baseline_create_date_month\n",
            "27395 baseline_create_date_quarter\n",
            "27395 document_create_date_month\n",
            "27395 document_create_date_quarter\n",
            "27395 Delta_due_post\n"
          ],
          "name": "stdout"
        }
      ]
    },
    {
      "cell_type": "code",
      "metadata": {
        "colab": {
          "base_uri": "https://localhost:8080/"
        },
        "id": "5fb6ecbb",
        "scrolled": true,
        "outputId": "e8c47027-bd62-45f0-acc8-0c2f0015d855"
      },
      "source": [
        "# features with outliers and their counts\n",
        "print(((X_train < lower_bound) | (X_train > upper_bound)).sum())"
      ],
      "id": "5fb6ecbb",
      "execution_count": null,
      "outputs": [
        {
          "output_type": "stream",
          "text": [
            "business_code                   2733\n",
            "cust_number                     2017\n",
            "name_customer                   2284\n",
            "invoice_currency                2227\n",
            "total_open_amount               1430\n",
            "cust_payment_terms              5055\n",
            "posting_date_month                 0\n",
            "posting_date_quarter               0\n",
            "due_in_date_month                  0\n",
            "due_in_date_quarter                0\n",
            "baseline_create_date_month         0\n",
            "baseline_create_date_quarter       0\n",
            "document_create_date_month         0\n",
            "document_create_date_quarter       0\n",
            "Delta_due_post                  7256\n",
            "dtype: int64\n"
          ],
          "name": "stdout"
        }
      ]
    },
    {
      "cell_type": "code",
      "metadata": {
        "colab": {
          "base_uri": "https://localhost:8080/",
          "height": 330
        },
        "id": "qG5-fEAvtS6t",
        "outputId": "e2de8c15-976f-4615-a9f4-aacc04cc3d21"
      },
      "source": [
        "print(X_train['Delta_due_post'].skew())\n",
        "print('#################################')\n",
        "sns.distplot(X_train.Delta_due_post)"
      ],
      "id": "qG5-fEAvtS6t",
      "execution_count": null,
      "outputs": [
        {
          "output_type": "stream",
          "text": [
            "2.820901518832487\n",
            "#################################\n"
          ],
          "name": "stdout"
        },
        {
          "output_type": "execute_result",
          "data": {
            "text/plain": [
              "<matplotlib.axes._subplots.AxesSubplot at 0x7f30b8ca3610>"
            ]
          },
          "metadata": {
            "tags": []
          },
          "execution_count": 49
        },
        {
          "output_type": "display_data",
          "data": {
            "image/png": "[encoded data removed]",
            "text/plain": [
              "<Figure size 432x288 with 1 Axes>"
            ]
          },
          "metadata": {
            "tags": [],
            "needs_background": "light"
          }
        }
      ]
    },
    {
      "cell_type": "code",
      "metadata": {
        "id": "nqmweSJFNCsd",
        "colab": {
          "base_uri": "https://localhost:8080/",
          "height": 886
        },
        "outputId": "b8d20c7a-3d55-4781-85ce-e680dc9446cc"
      },
      "source": [
        "# Generating heat map\n",
        "\n",
        "colormap = plt.cm.RdBu\n",
        "plt.figure(figsize=(14,12))\n",
        "plt.title('Correlation of Features', y=1.05, size=15)\n",
        "sns.heatmap(X_train.merge(Y_train , on = X_train.index ).corr(),linewidths=0.1,vmax=1.0, \n",
        "            square=True, cmap=colormap, linecolor='white', annot=True)"
      ],
      "id": "nqmweSJFNCsd",
      "execution_count": null,
      "outputs": [
        {
          "output_type": "execute_result",
          "data": {
            "text/plain": [
              "<matplotlib.axes._subplots.AxesSubplot at 0x7f30b8d19c90>"
            ]
          },
          "metadata": {
            "tags": []
          },
          "execution_count": 50
        },
        {
          "output_type": "display_data",
          "data": {
            "image/png": "[encoded data removed]",
            "text/plain": [
              "<Figure size 1008x864 with 2 Axes>"
            ]
          },
          "metadata": {
            "tags": [],
            "needs_background": "light"
          }
        }
      ]
    },
    {
      "cell_type": "code",
      "metadata": {
        "id": "Ac_VNWpwZRTS"
      },
      "source": [
        "# Removing features with high corelation\n",
        "drop_features(['posting_date_month', 'posting_date_month', 'due_in_date_month', 'document_create_date_quarter', 'document_create_date_month', 'baseline_create_date_month', 'baseline_create_date_quarter'])"
      ],
      "id": "Ac_VNWpwZRTS",
      "execution_count": null,
      "outputs": []
    },
    {
      "cell_type": "code",
      "metadata": {
        "id": "PMtds7noaDPH",
        "colab": {
          "base_uri": "https://localhost:8080/",
          "height": 836
        },
        "outputId": "019f9955-1f02-43fa-ff70-cec25ab6b817"
      },
      "source": [
        "# Generating heat map\n",
        "\n",
        "colormap = plt.cm.RdBu\n",
        "plt.figure(figsize=(14,12))\n",
        "plt.title('Correlation of Features', y=1.05, size=15)\n",
        "sns.heatmap(X_train.merge(Y_train , on = X_train.index ).corr(),linewidths=0.1,vmax=1.0, \n",
        "            square=True, cmap=colormap, linecolor='white', annot=True)"
      ],
      "id": "PMtds7noaDPH",
      "execution_count": null,
      "outputs": [
        {
          "output_type": "execute_result",
          "data": {
            "text/plain": [
              "<matplotlib.axes._subplots.AxesSubplot at 0x7f30b848eb10>"
            ]
          },
          "metadata": {
            "tags": []
          },
          "execution_count": 53
        },
        {
          "output_type": "display_data",
          "data": {
            "image/png": "[encoded data removed]",
            "text/plain": [
              "<Figure size 1008x864 with 2 Axes>"
            ]
          },
          "metadata": {
            "tags": [],
            "needs_background": "light"
          }
        }
      ]
    },
    {
      "cell_type": "markdown",
      "metadata": {
        "id": "95uhcjUFJxVz"
      },
      "source": [
        "## Feature scaling"
      ],
      "id": "95uhcjUFJxVz"
    },
    {
      "cell_type": "code",
      "metadata": {
        "id": "P-d8Xc7zITlB"
      },
      "source": [
        "# Performing normalization of data\n",
        "\n",
        "normalization_scaler = StandardScaler() \n",
        "X_train_normalized = normalization_scaler.fit_transform(X_train) \n",
        "X_test_normalized = normalization_scaler.transform(X_test) \n",
        "X_validation_normalized = normalization_scaler.transform(X_validation)"
      ],
      "id": "P-d8Xc7zITlB",
      "execution_count": null,
      "outputs": []
    },
    {
      "cell_type": "markdown",
      "metadata": {
        "id": "oJIhkIqjO7q5"
      },
      "source": [
        "## Modelling"
      ],
      "id": "oJIhkIqjO7q5"
    },
    {
      "cell_type": "code",
      "metadata": {
        "id": "9GsRqYEwJsBM"
      },
      "source": [
        "from sklearn.linear_model import LinearRegression\n",
        "from sklearn.svm import SVR\n",
        "from sklearn.tree import DecisionTreeRegressor\n",
        "from sklearn.ensemble import RandomForestRegressor\n",
        "import xgboost as xgb\n",
        "from sklearn.metrics import mean_squared_error\n",
        "from sklearn.metrics import r2_score\n"
      ],
      "id": "9GsRqYEwJsBM",
      "execution_count": null,
      "outputs": []
    },
    {
      "cell_type": "code",
      "metadata": {
        "id": "JHBj1ZQhO0Iy"
      },
      "source": [
        "# Defining Lists to Store in the Results and Names of Algorithms\n",
        "RMSE_Score_validation = []\n",
        "RMSE_Score_test = []\n",
        "R2_Score_validation = []\n",
        "R2_Score_test = []\n",
        "Algorithm = []"
      ],
      "id": "JHBj1ZQhO0Iy",
      "execution_count": null,
      "outputs": []
    },
    {
      "cell_type": "markdown",
      "metadata": {
        "id": "vp1XxX-fWvDX"
      },
      "source": [
        "### **1. Linear Regression**"
      ],
      "id": "vp1XxX-fWvDX"
    },
    {
      "cell_type": "code",
      "metadata": {
        "id": "7uF-dWBXMKYN"
      },
      "source": [
        "Algorithm.append('Linear Regression')\n",
        "linear_regressor = LinearRegression()\n",
        "linear_regressor.fit(X_train_normalized, Y_train)\n",
        "\n",
        "# Predicting the Test and Validation Set Result\n",
        "predicted_val_set = linear_regressor.predict(X_validation_normalized)\n",
        "predicted_test_set = linear_regressor.predict(X_test_normalized)"
      ],
      "id": "7uF-dWBXMKYN",
      "execution_count": null,
      "outputs": []
    },
    {
      "cell_type": "code",
      "metadata": {
        "id": "wzTje-RfZjUM"
      },
      "source": [
        "# Appending the Scores For Visualisation at a Later Part\n",
        "RMSE_Score_validation.append(mean_squared_error(Y_test, predicted_test_set, squared=False))\n",
        "R2_Score_validation.append(r2_score(Y_validation, predicted_val_set))\n",
        "RMSE_Score_test.append(mean_squared_error(Y_test, predicted_test_set, squared=False))\n",
        "R2_Score_test.append(r2_score(Y_test, predicted_test_set))"
      ],
      "id": "wzTje-RfZjUM",
      "execution_count": null,
      "outputs": []
    },
    {
      "cell_type": "markdown",
      "metadata": {
        "id": "ojQj8NWVIjau"
      },
      "source": [
        "### **2. Support Vector Regression**"
      ],
      "id": "ojQj8NWVIjau"
    },
    {
      "cell_type": "code",
      "metadata": {
        "id": "nR58bQIWIjau"
      },
      "source": [
        "# Fitting SVR to the Training Set\n",
        "Algorithm.append('Support Vector Regression')\n",
        "svr = SVR()\n",
        "svr.fit(X_train_normalized, Y_train)\n",
        "\n",
        "# Predicting the Test and Validation Set Result\n",
        "predicted_val_set = svr.predict(X_validation_normalized)\n",
        "predicted_test_set = svr.predict(X_test_normalized)"
      ],
      "id": "nR58bQIWIjau",
      "execution_count": null,
      "outputs": []
    },
    {
      "cell_type": "code",
      "metadata": {
        "id": "Mv5g_I07agXx"
      },
      "source": [
        "# Appending the Scores For Visualisation at a Later Part\n",
        "RMSE_Score_validation.append(mean_squared_error(Y_test, predicted_test_set, squared=False))\n",
        "R2_Score_validation.append(r2_score(Y_validation, predicted_val_set))\n",
        "RMSE_Score_test.append(mean_squared_error(Y_test, predicted_test_set, squared=False))\n",
        "R2_Score_test.append(r2_score(Y_test, predicted_test_set))"
      ],
      "id": "Mv5g_I07agXx",
      "execution_count": null,
      "outputs": []
    },
    {
      "cell_type": "markdown",
      "metadata": {
        "id": "7EJpSFaVatzN"
      },
      "source": [
        "### **3. Decision Tree Regressor**"
      ],
      "id": "7EJpSFaVatzN"
    },
    {
      "cell_type": "code",
      "metadata": {
        "id": "OIJETocSagiy"
      },
      "source": [
        "# Fitting Decision Tree to the Training Set\n",
        "Algorithm.append('Decision Tree Regressor')\n",
        "decision_tree_regressor = DecisionTreeRegressor(ccp_alpha=0.0, criterion='mse', max_depth=5,\n",
        "                      max_features=None, max_leaf_nodes=None,\n",
        "                      min_impurity_decrease=0.0, min_impurity_split=None,\n",
        "                      min_samples_leaf=1, min_samples_split=2,\n",
        "                      min_weight_fraction_leaf=0.0, presort='deprecated',\n",
        "                      random_state=0, splitter='best')\n",
        "\n",
        "decision_tree_regressor.fit(X_train_normalized, Y_train)\n",
        "\n",
        "# Predicting the Test and Validation Set Result\n",
        "predicted_val_set = decision_tree_regressor.predict(X_validation_normalized)\n",
        "predicted_test_set = decision_tree_regressor.predict(X_test_normalized)"
      ],
      "id": "OIJETocSagiy",
      "execution_count": null,
      "outputs": []
    },
    {
      "cell_type": "code",
      "metadata": {
        "id": "njEMLWasbDG3"
      },
      "source": [
        "# Appending the Scores For Visualisation at a Later Part\n",
        "RMSE_Score_validation.append(mean_squared_error(Y_test, predicted_test_set, squared=False))\n",
        "R2_Score_validation.append(r2_score(Y_validation, predicted_val_set))\n",
        "RMSE_Score_test.append(mean_squared_error(Y_test, predicted_test_set, squared=False))\n",
        "R2_Score_test.append(r2_score(Y_test, predicted_test_set))"
      ],
      "id": "njEMLWasbDG3",
      "execution_count": null,
      "outputs": []
    },
    {
      "cell_type": "markdown",
      "metadata": {
        "id": "ksCC-RIAbIG2"
      },
      "source": [
        "### **4. Random Forest Regressor**"
      ],
      "id": "ksCC-RIAbIG2"
    },
    {
      "cell_type": "code",
      "metadata": {
        "id": "rfgK2TtAbRWi"
      },
      "source": [
        "# Fitting Random Forest Regressor Tree to the Training Set\n",
        "Algorithm.append('Random Forest Regressor')\n",
        "random_forest = RandomForestRegressor()\n",
        "random_forest.fit(X_train_normalized, Y_train)\n",
        "\n",
        "# Predicting the Test and Validation Set Result\n",
        "predicted_val_set = random_forest.predict(X_validation_normalized)\n",
        "predicted_test_set = random_forest.predict(X_test_normalized)"
      ],
      "id": "rfgK2TtAbRWi",
      "execution_count": null,
      "outputs": []
    },
    {
      "cell_type": "code",
      "metadata": {
        "id": "s05d86ATbg7U"
      },
      "source": [
        "# Appending the Scores For Visualisation at a Later Part\n",
        "RMSE_Score_validation.append(mean_squared_error(Y_test, predicted_test_set, squared=False))\n",
        "R2_Score_validation.append(r2_score(Y_validation, predicted_val_set))\n",
        "RMSE_Score_test.append(mean_squared_error(Y_test, predicted_test_set, squared=False))\n",
        "R2_Score_test.append(r2_score(Y_test, predicted_test_set))"
      ],
      "id": "s05d86ATbg7U",
      "execution_count": null,
      "outputs": []
    },
    {
      "cell_type": "markdown",
      "metadata": {
        "id": "MBOTeu_2bm4z"
      },
      "source": [
        "### **5. XGB Regressor**"
      ],
      "id": "MBOTeu_2bm4z"
    },
    {
      "cell_type": "code",
      "metadata": {
        "id": "VfmrMJe4brYl",
        "colab": {
          "base_uri": "https://localhost:8080/"
        },
        "outputId": "c7e88b3f-c576-4ce7-b72a-685590290fb5"
      },
      "source": [
        "# Fitting XGBoost Regressor to the Training Set\n",
        "Algorithm.append('XGB Regressor')\n",
        "xgb_regressor = xgb.XGBRegressor()\n",
        "xgb_regressor.fit(X_train_normalized, Y_train)\n",
        "\n",
        "# Predicting the Test and Validation Set Result\n",
        "predicted_val_set = xgb_regressor.predict(X_validation_normalized)\n",
        "predicted_test_set = xgb_regressor.predict(X_test_normalized)"
      ],
      "id": "VfmrMJe4brYl",
      "execution_count": null,
      "outputs": [
        {
          "output_type": "stream",
          "text": [
            "[22:54:17] WARNING: /workspace/src/objective/regression_obj.cu:152: reg:linear is now deprecated in favor of reg:squarederror.\n"
          ],
          "name": "stdout"
        }
      ]
    },
    {
      "cell_type": "code",
      "metadata": {
        "id": "YJCp_jD9b3Nk"
      },
      "source": [
        "# Appending the Scores For Visualisation at a Later Part\n",
        "RMSE_Score_validation.append(mean_squared_error(Y_test, predicted_test_set, squared=False))\n",
        "R2_Score_validation.append(r2_score(Y_validation, predicted_val_set))\n",
        "RMSE_Score_test.append(mean_squared_error(Y_test, predicted_test_set, squared=False))\n",
        "R2_Score_test.append(r2_score(Y_test, predicted_test_set))"
      ],
      "id": "YJCp_jD9b3Nk",
      "execution_count": null,
      "outputs": []
    },
    {
      "cell_type": "markdown",
      "metadata": {
        "id": "SRE03p_kb9HN"
      },
      "source": [
        "## Score Card of the Models' Performances"
      ],
      "id": "SRE03p_kb9HN"
    },
    {
      "cell_type": "code",
      "metadata": {
        "id": "utRdc_0F2def"
      },
      "source": [
        "# Just Combining the Lists into a DataFrame for a Better Visualisation\n",
        "Comparison = pd.DataFrame(list(zip(Algorithm, RMSE_Score_validation, R2_Score_validation, RMSE_Score_test, R2_Score_test)), columns = ['Algorithm', 'RMSE_Score_validation', 'R2_Score_validation', 'RMSE_Score_test', 'R2_Score_test'])"
      ],
      "id": "utRdc_0F2def",
      "execution_count": null,
      "outputs": []
    },
    {
      "cell_type": "code",
      "metadata": {
        "colab": {
          "base_uri": "https://localhost:8080/",
          "height": 203
        },
        "id": "NnhgQ7o02fmR",
        "outputId": "d915d063-da11-465e-df7d-c4b542a1f091"
      },
      "source": [
        "# Score card\n",
        "Comparison"
      ],
      "id": "NnhgQ7o02fmR",
      "execution_count": null,
      "outputs": [
        {
          "output_type": "execute_result",
          "data": {
            "text/html": [
              "<div>\n",
              "<style scoped>\n",
              "    .dataframe tbody tr th:only-of-type {\n",
              "        vertical-align: middle;\n",
              "    }\n",
              "\n",
              "    .dataframe tbody tr th {\n",
              "        vertical-align: top;\n",
              "    }\n",
              "\n",
              "    .dataframe thead th {\n",
              "        text-align: right;\n",
              "    }\n",
              "</style>\n",
              "<table border=\"1\" class=\"dataframe\">\n",
              "  <thead>\n",
              "    <tr style=\"text-align: right;\">\n",
              "      <th></th>\n",
              "      <th>Algorithm</th>\n",
              "      <th>RMSE_Score_validation</th>\n",
              "      <th>R2_Score_validation</th>\n",
              "      <th>RMSE_Score_test</th>\n",
              "      <th>R2_Score_test</th>\n",
              "    </tr>\n",
              "  </thead>\n",
              "  <tbody>\n",
              "    <tr>\n",
              "      <th>0</th>\n",
              "      <td>Linear Regression</td>\n",
              "      <td>7.712114</td>\n",
              "      <td>0.412052</td>\n",
              "      <td>7.712114</td>\n",
              "      <td>0.422977</td>\n",
              "    </tr>\n",
              "    <tr>\n",
              "      <th>1</th>\n",
              "      <td>Support Vector Regression</td>\n",
              "      <td>7.735943</td>\n",
              "      <td>0.492233</td>\n",
              "      <td>7.735943</td>\n",
              "      <td>0.419406</td>\n",
              "    </tr>\n",
              "    <tr>\n",
              "      <th>2</th>\n",
              "      <td>Decision Tree Regressor</td>\n",
              "      <td>7.666381</td>\n",
              "      <td>0.390824</td>\n",
              "      <td>7.666381</td>\n",
              "      <td>0.429800</td>\n",
              "    </tr>\n",
              "    <tr>\n",
              "      <th>3</th>\n",
              "      <td>Random Forest Regressor</td>\n",
              "      <td>7.932062</td>\n",
              "      <td>0.212379</td>\n",
              "      <td>7.932062</td>\n",
              "      <td>0.389595</td>\n",
              "    </tr>\n",
              "    <tr>\n",
              "      <th>4</th>\n",
              "      <td>XGB Regressor</td>\n",
              "      <td>7.421316</td>\n",
              "      <td>0.454025</td>\n",
              "      <td>7.421316</td>\n",
              "      <td>0.465672</td>\n",
              "    </tr>\n",
              "  </tbody>\n",
              "</table>\n",
              "</div>"
            ],
            "text/plain": [
              "                   Algorithm  ...  R2_Score_test\n",
              "0          Linear Regression  ...       0.422977\n",
              "1  Support Vector Regression  ...       0.419406\n",
              "2    Decision Tree Regressor  ...       0.429800\n",
              "3    Random Forest Regressor  ...       0.389595\n",
              "4              XGB Regressor  ...       0.465672\n",
              "\n",
              "[5 rows x 5 columns]"
            ]
          },
          "metadata": {
            "tags": []
          },
          "execution_count": 68
        }
      ]
    },
    {
      "cell_type": "markdown",
      "metadata": {
        "id": "VwS-43EPmEd4"
      },
      "source": [
        "### According to table Decision Tree Regressor has best accuricy"
      ],
      "id": "VwS-43EPmEd4"
    },
    {
      "cell_type": "markdown",
      "metadata": {
        "id": "J-Gzg3_ApEEL"
      },
      "source": [
        "\n",
        "\n",
        "## Predict dates\n"
      ],
      "id": "J-Gzg3_ApEEL"
    },
    {
      "cell_type": "code",
      "metadata": {
        "colab": {
          "base_uri": "https://localhost:8080/"
        },
        "id": "L5f-MyRJpFUJ",
        "outputId": "005e2b0a-4bfd-4809-b7f1-94b4cd4e681b"
      },
      "source": [
        "testing_data.isna().sum()"
      ],
      "id": "L5f-MyRJpFUJ",
      "execution_count": null,
      "outputs": [
        {
          "output_type": "execute_result",
          "data": {
            "text/plain": [
              "business_code                 0\n",
              "cust_number                   0\n",
              "name_customer                 0\n",
              "clear_date                10000\n",
              "buisness_year                 0\n",
              "doc_id                        0\n",
              "posting_date                  0\n",
              "document_create_date          0\n",
              "document_create_date.1        0\n",
              "due_in_date                   0\n",
              "invoice_currency              0\n",
              "document type                 0\n",
              "posting_id                    0\n",
              "area_business             10000\n",
              "total_open_amount             0\n",
              "baseline_create_date          0\n",
              "cust_payment_terms            0\n",
              "invoice_id                    0\n",
              "isOpen                        0\n",
              "dtype: int64"
            ]
          },
          "metadata": {
            "tags": []
          },
          "execution_count": 69
        }
      ]
    },
    {
      "cell_type": "code",
      "metadata": {
        "colab": {
          "base_uri": "https://localhost:8080/"
        },
        "id": "qzygZbNwyLqz",
        "outputId": "ac24e8da-0f22-4133-85f4-8585e6f0d586"
      },
      "source": [
        "# Droping Null columns\n",
        "\n",
        "X_testing_data = testing_data.drop(columns=['clear_date', 'area_business'], axis=1)\n",
        "testing_data.drop(['clear_date', 'area_business'], axis=1, inplace=True)\n",
        "X_testing_data.shape"
      ],
      "id": "qzygZbNwyLqz",
      "execution_count": null,
      "outputs": [
        {
          "output_type": "execute_result",
          "data": {
            "text/plain": [
              "(10000, 17)"
            ]
          },
          "metadata": {
            "tags": []
          },
          "execution_count": 70
        }
      ]
    },
    {
      "cell_type": "code",
      "metadata": {
        "colab": {
          "base_uri": "https://localhost:8080/"
        },
        "id": "ugtIhQf1x0Z4",
        "outputId": "32b9b58a-4c15-41b9-9960-8cc9904f5102"
      },
      "source": [
        "X_testing_data.nunique()"
      ],
      "id": "ugtIhQf1x0Z4",
      "execution_count": null,
      "outputs": [
        {
          "output_type": "execute_result",
          "data": {
            "text/plain": [
              "business_code                5\n",
              "cust_number                661\n",
              "name_customer             1724\n",
              "buisness_year                1\n",
              "doc_id                    9714\n",
              "posting_date                82\n",
              "document_create_date        88\n",
              "document_create_date.1      82\n",
              "due_in_date                126\n",
              "invoice_currency             2\n",
              "document type                1\n",
              "posting_id                   1\n",
              "total_open_amount         9102\n",
              "baseline_create_date        85\n",
              "cust_payment_terms          40\n",
              "invoice_id                9714\n",
              "isOpen                       1\n",
              "dtype: int64"
            ]
          },
          "metadata": {
            "tags": []
          },
          "execution_count": 71
        }
      ]
    },
    {
      "cell_type": "code",
      "metadata": {
        "id": "NPnO50ruyWcD"
      },
      "source": [
        "# convert the data type of the date column to DateTime\n",
        "\n",
        "X_testing_data['posting_date'] = pd.to_datetime(X_testing_data['posting_date'])\n",
        "X_testing_data['due_in_date'] = pd.to_datetime(X_testing_data['due_in_date'], format='%Y%m%d')\n",
        "X_testing_data['baseline_create_date'] = pd.to_datetime(X_testing_data['baseline_create_date'], format='%Y%m%d')\n",
        "X_testing_data['document_create_date.1'] = pd.to_datetime(X_testing_data['document_create_date.1'], format='%Y%m%d')\n",
        "X_testing_data['document_create_date'] = pd.to_datetime(X_testing_data['document_create_date'], format='%Y%m%d')"
      ],
      "id": "NPnO50ruyWcD",
      "execution_count": null,
      "outputs": []
    },
    {
      "cell_type": "code",
      "metadata": {
        "id": "-MDZ4OWC2NVq"
      },
      "source": [
        "# Combining ['U013','U002','U005','U007'] in one group as they are having less frequency\n",
        "X_testing_data['business_code']=np.where(X_testing_data['business_code'].isin(['U013','U002','U005','U007']),'other_business_code',X_testing_data['business_code'])"
      ],
      "id": "-MDZ4OWC2NVq",
      "execution_count": null,
      "outputs": []
    },
    {
      "cell_type": "code",
      "metadata": {
        "id": "k6sdoITZ2auh"
      },
      "source": [
        "# Droping Features\n",
        "\n",
        "cols_to_remove = set(duplicate_columns + ['document_create_date.1', 'doc_id', 'invoice_id', 'posting_id', 'document type'] + constant_features)\n",
        "X_testing_data.drop(inplace=True, axis=1, columns=cols_to_remove)\n"
      ],
      "id": "k6sdoITZ2auh",
      "execution_count": null,
      "outputs": []
    },
    {
      "cell_type": "code",
      "metadata": {
        "id": "ArjVPVyN3TgG"
      },
      "source": [
        "# Sorting DF with respect to feature posting_date to train model on old data\n",
        "\n",
        "X_testing_data.sort_values(by=['posting_date'], inplace=True)\n",
        "X_testing_data.reset_index(drop=True, inplace=True)"
      ],
      "id": "ArjVPVyN3TgG",
      "execution_count": null,
      "outputs": []
    },
    {
      "cell_type": "code",
      "metadata": {
        "id": "8iDTAdyz3hUp"
      },
      "source": [
        "# Spliting datetime features to year, month and quarter\n",
        "\n",
        "for feature in ['posting_date', 'due_in_date', 'baseline_create_date', 'document_create_date']:\n",
        "    X_testing_data[feature+'_year'] = X_testing_data[feature].dt.year\n",
        "    X_testing_data[feature+'_month'] = X_testing_data[feature].dt.month\n",
        "    X_testing_data[feature+'_quarter'] = X_testing_data[feature].dt.quarter"
      ],
      "id": "8iDTAdyz3hUp",
      "execution_count": null,
      "outputs": []
    },
    {
      "cell_type": "code",
      "metadata": {
        "id": "ZU2KLDlcGcx3"
      },
      "source": [
        "X_testing_data['Delta_due_post'] = X_testing_data.loc[: , 'due_in_date']-X_testing_data.loc[:,'posting_date']\n",
        "X_testing_data['Delta_due_post'] = X_testing_data['Delta_due_post'].astype('timedelta64[D]').astype(int)\n"
      ],
      "id": "ZU2KLDlcGcx3",
      "execution_count": null,
      "outputs": []
    },
    {
      "cell_type": "code",
      "metadata": {
        "id": "1JHGL8gDGnTa"
      },
      "source": [
        "X_testing_data.drop(inplace=True, columns=['posting_date', 'due_in_date','baseline_create_date', 'document_create_date'], axis=1)"
      ],
      "id": "1JHGL8gDGnTa",
      "execution_count": null,
      "outputs": []
    },
    {
      "cell_type": "code",
      "metadata": {
        "colab": {
          "base_uri": "https://localhost:8080/"
        },
        "id": "rSNNjAz7iNVP",
        "outputId": "b68c3a26-6754-4abd-e431-8a8dc57031ce"
      },
      "source": [
        "X_train.shape, X_testing_data.shape, X_test.shape"
      ],
      "id": "rSNNjAz7iNVP",
      "execution_count": null,
      "outputs": [
        {
          "output_type": "execute_result",
          "data": {
            "text/plain": [
              "((27395, 9), (10000, 20), (5871, 9))"
            ]
          },
          "metadata": {
            "tags": []
          },
          "execution_count": 79
        }
      ]
    },
    {
      "cell_type": "code",
      "metadata": {
        "id": "hV6P17hSJ_sO"
      },
      "source": [
        "# Transforming categorical features in final testing set using target encoder\n",
        "X_testing_data = target_encoder.transform(X_testing_data)"
      ],
      "id": "hV6P17hSJ_sO",
      "execution_count": null,
      "outputs": []
    },
    {
      "cell_type": "code",
      "metadata": {
        "colab": {
          "base_uri": "https://localhost:8080/",
          "height": 437
        },
        "id": "ZCUbbKBTLoyX",
        "outputId": "5cc8011d-3493-4e04-9e8e-959e7d1f2b05"
      },
      "source": [
        "# Transforming invoice_currency final testing set using label encoder\n",
        "X_testing_data['invoice_currency'] = label_encoder.transform(X_testing_data['invoice_currency'])\n",
        "X_testing_data"
      ],
      "id": "ZCUbbKBTLoyX",
      "execution_count": null,
      "outputs": [
        {
          "output_type": "execute_result",
          "data": {
            "text/html": [
              "<div>\n",
              "<style scoped>\n",
              "    .dataframe tbody tr th:only-of-type {\n",
              "        vertical-align: middle;\n",
              "    }\n",
              "\n",
              "    .dataframe tbody tr th {\n",
              "        vertical-align: top;\n",
              "    }\n",
              "\n",
              "    .dataframe thead th {\n",
              "        text-align: right;\n",
              "    }\n",
              "</style>\n",
              "<table border=\"1\" class=\"dataframe\">\n",
              "  <thead>\n",
              "    <tr style=\"text-align: right;\">\n",
              "      <th></th>\n",
              "      <th>business_code</th>\n",
              "      <th>cust_number</th>\n",
              "      <th>name_customer</th>\n",
              "      <th>buisness_year</th>\n",
              "      <th>invoice_currency</th>\n",
              "      <th>total_open_amount</th>\n",
              "      <th>cust_payment_terms</th>\n",
              "      <th>posting_date_year</th>\n",
              "      <th>posting_date_month</th>\n",
              "      <th>posting_date_quarter</th>\n",
              "      <th>due_in_date_year</th>\n",
              "      <th>due_in_date_month</th>\n",
              "      <th>due_in_date_quarter</th>\n",
              "      <th>baseline_create_date_year</th>\n",
              "      <th>baseline_create_date_month</th>\n",
              "      <th>baseline_create_date_quarter</th>\n",
              "      <th>document_create_date_year</th>\n",
              "      <th>document_create_date_month</th>\n",
              "      <th>document_create_date_quarter</th>\n",
              "      <th>Delta_due_post</th>\n",
              "    </tr>\n",
              "  </thead>\n",
              "  <tbody>\n",
              "    <tr>\n",
              "      <th>0</th>\n",
              "      <td>0.343362</td>\n",
              "      <td>-0.080071</td>\n",
              "      <td>0.581395</td>\n",
              "      <td>2020.0</td>\n",
              "      <td>1</td>\n",
              "      <td>44906.11</td>\n",
              "      <td>0.451258</td>\n",
              "      <td>2020</td>\n",
              "      <td>2</td>\n",
              "      <td>1</td>\n",
              "      <td>2020</td>\n",
              "      <td>3</td>\n",
              "      <td>1</td>\n",
              "      <td>2020</td>\n",
              "      <td>2</td>\n",
              "      <td>1</td>\n",
              "      <td>2020</td>\n",
              "      <td>2</td>\n",
              "      <td>1</td>\n",
              "      <td>15</td>\n",
              "    </tr>\n",
              "    <tr>\n",
              "      <th>1</th>\n",
              "      <td>0.343362</td>\n",
              "      <td>0.736842</td>\n",
              "      <td>0.538465</td>\n",
              "      <td>2020.0</td>\n",
              "      <td>1</td>\n",
              "      <td>5868.64</td>\n",
              "      <td>-13.043643</td>\n",
              "      <td>2020</td>\n",
              "      <td>2</td>\n",
              "      <td>1</td>\n",
              "      <td>2020</td>\n",
              "      <td>5</td>\n",
              "      <td>2</td>\n",
              "      <td>2020</td>\n",
              "      <td>2</td>\n",
              "      <td>1</td>\n",
              "      <td>2020</td>\n",
              "      <td>2</td>\n",
              "      <td>1</td>\n",
              "      <td>65</td>\n",
              "    </tr>\n",
              "    <tr>\n",
              "      <th>2</th>\n",
              "      <td>6.487203</td>\n",
              "      <td>5.152381</td>\n",
              "      <td>3.160868</td>\n",
              "      <td>2020.0</td>\n",
              "      <td>0</td>\n",
              "      <td>834.00</td>\n",
              "      <td>6.603241</td>\n",
              "      <td>2020</td>\n",
              "      <td>2</td>\n",
              "      <td>1</td>\n",
              "      <td>2020</td>\n",
              "      <td>3</td>\n",
              "      <td>1</td>\n",
              "      <td>2020</td>\n",
              "      <td>2</td>\n",
              "      <td>1</td>\n",
              "      <td>2020</td>\n",
              "      <td>2</td>\n",
              "      <td>1</td>\n",
              "      <td>11</td>\n",
              "    </tr>\n",
              "    <tr>\n",
              "      <th>3</th>\n",
              "      <td>0.343362</td>\n",
              "      <td>-6.698529</td>\n",
              "      <td>-5.767442</td>\n",
              "      <td>2020.0</td>\n",
              "      <td>1</td>\n",
              "      <td>13413.89</td>\n",
              "      <td>-4.393204</td>\n",
              "      <td>2020</td>\n",
              "      <td>2</td>\n",
              "      <td>1</td>\n",
              "      <td>2020</td>\n",
              "      <td>3</td>\n",
              "      <td>1</td>\n",
              "      <td>2020</td>\n",
              "      <td>2</td>\n",
              "      <td>1</td>\n",
              "      <td>2020</td>\n",
              "      <td>2</td>\n",
              "      <td>1</td>\n",
              "      <td>32</td>\n",
              "    </tr>\n",
              "    <tr>\n",
              "      <th>4</th>\n",
              "      <td>0.343362</td>\n",
              "      <td>0.405263</td>\n",
              "      <td>-0.465116</td>\n",
              "      <td>2020.0</td>\n",
              "      <td>1</td>\n",
              "      <td>63885.28</td>\n",
              "      <td>1.243551</td>\n",
              "      <td>2020</td>\n",
              "      <td>2</td>\n",
              "      <td>1</td>\n",
              "      <td>2020</td>\n",
              "      <td>3</td>\n",
              "      <td>1</td>\n",
              "      <td>2020</td>\n",
              "      <td>2</td>\n",
              "      <td>1</td>\n",
              "      <td>2020</td>\n",
              "      <td>2</td>\n",
              "      <td>1</td>\n",
              "      <td>15</td>\n",
              "    </tr>\n",
              "    <tr>\n",
              "      <th>...</th>\n",
              "      <td>...</td>\n",
              "      <td>...</td>\n",
              "      <td>...</td>\n",
              "      <td>...</td>\n",
              "      <td>...</td>\n",
              "      <td>...</td>\n",
              "      <td>...</td>\n",
              "      <td>...</td>\n",
              "      <td>...</td>\n",
              "      <td>...</td>\n",
              "      <td>...</td>\n",
              "      <td>...</td>\n",
              "      <td>...</td>\n",
              "      <td>...</td>\n",
              "      <td>...</td>\n",
              "      <td>...</td>\n",
              "      <td>...</td>\n",
              "      <td>...</td>\n",
              "      <td>...</td>\n",
              "      <td>...</td>\n",
              "    </tr>\n",
              "    <tr>\n",
              "      <th>9995</th>\n",
              "      <td>0.343362</td>\n",
              "      <td>1.000000</td>\n",
              "      <td>1.006548</td>\n",
              "      <td>2020.0</td>\n",
              "      <td>1</td>\n",
              "      <td>27984.87</td>\n",
              "      <td>1.243551</td>\n",
              "      <td>2020</td>\n",
              "      <td>5</td>\n",
              "      <td>2</td>\n",
              "      <td>2020</td>\n",
              "      <td>6</td>\n",
              "      <td>2</td>\n",
              "      <td>2020</td>\n",
              "      <td>5</td>\n",
              "      <td>2</td>\n",
              "      <td>2020</td>\n",
              "      <td>5</td>\n",
              "      <td>2</td>\n",
              "      <td>15</td>\n",
              "    </tr>\n",
              "    <tr>\n",
              "      <th>9996</th>\n",
              "      <td>0.343362</td>\n",
              "      <td>1.000001</td>\n",
              "      <td>0.709303</td>\n",
              "      <td>2020.0</td>\n",
              "      <td>1</td>\n",
              "      <td>17544.11</td>\n",
              "      <td>1.243551</td>\n",
              "      <td>2020</td>\n",
              "      <td>5</td>\n",
              "      <td>2</td>\n",
              "      <td>2020</td>\n",
              "      <td>6</td>\n",
              "      <td>2</td>\n",
              "      <td>2020</td>\n",
              "      <td>5</td>\n",
              "      <td>2</td>\n",
              "      <td>2020</td>\n",
              "      <td>5</td>\n",
              "      <td>2</td>\n",
              "      <td>15</td>\n",
              "    </tr>\n",
              "    <tr>\n",
              "      <th>9997</th>\n",
              "      <td>0.343362</td>\n",
              "      <td>4.121212</td>\n",
              "      <td>2.571660</td>\n",
              "      <td>2020.0</td>\n",
              "      <td>1</td>\n",
              "      <td>20.95</td>\n",
              "      <td>11.156098</td>\n",
              "      <td>2020</td>\n",
              "      <td>5</td>\n",
              "      <td>2</td>\n",
              "      <td>2020</td>\n",
              "      <td>6</td>\n",
              "      <td>2</td>\n",
              "      <td>2020</td>\n",
              "      <td>5</td>\n",
              "      <td>2</td>\n",
              "      <td>2020</td>\n",
              "      <td>5</td>\n",
              "      <td>2</td>\n",
              "      <td>30</td>\n",
              "    </tr>\n",
              "    <tr>\n",
              "      <th>9998</th>\n",
              "      <td>0.343362</td>\n",
              "      <td>4.121212</td>\n",
              "      <td>3.152328</td>\n",
              "      <td>2020.0</td>\n",
              "      <td>1</td>\n",
              "      <td>1.17</td>\n",
              "      <td>11.156098</td>\n",
              "      <td>2020</td>\n",
              "      <td>5</td>\n",
              "      <td>2</td>\n",
              "      <td>2020</td>\n",
              "      <td>6</td>\n",
              "      <td>2</td>\n",
              "      <td>2020</td>\n",
              "      <td>5</td>\n",
              "      <td>2</td>\n",
              "      <td>2020</td>\n",
              "      <td>5</td>\n",
              "      <td>2</td>\n",
              "      <td>30</td>\n",
              "    </tr>\n",
              "    <tr>\n",
              "      <th>9999</th>\n",
              "      <td>0.343362</td>\n",
              "      <td>4.121212</td>\n",
              "      <td>3.152328</td>\n",
              "      <td>2020.0</td>\n",
              "      <td>1</td>\n",
              "      <td>1.17</td>\n",
              "      <td>11.156098</td>\n",
              "      <td>2020</td>\n",
              "      <td>5</td>\n",
              "      <td>2</td>\n",
              "      <td>2020</td>\n",
              "      <td>6</td>\n",
              "      <td>2</td>\n",
              "      <td>2020</td>\n",
              "      <td>5</td>\n",
              "      <td>2</td>\n",
              "      <td>2020</td>\n",
              "      <td>5</td>\n",
              "      <td>2</td>\n",
              "      <td>30</td>\n",
              "    </tr>\n",
              "  </tbody>\n",
              "</table>\n",
              "<p>10000 rows × 20 columns</p>\n",
              "</div>"
            ],
            "text/plain": [
              "      business_code  cust_number  ...  document_create_date_quarter  Delta_due_post\n",
              "0          0.343362    -0.080071  ...                             1              15\n",
              "1          0.343362     0.736842  ...                             1              65\n",
              "2          6.487203     5.152381  ...                             1              11\n",
              "3          0.343362    -6.698529  ...                             1              32\n",
              "4          0.343362     0.405263  ...                             1              15\n",
              "...             ...          ...  ...                           ...             ...\n",
              "9995       0.343362     1.000000  ...                             2              15\n",
              "9996       0.343362     1.000001  ...                             2              15\n",
              "9997       0.343362     4.121212  ...                             2              30\n",
              "9998       0.343362     4.121212  ...                             2              30\n",
              "9999       0.343362     4.121212  ...                             2              30\n",
              "\n",
              "[10000 rows x 20 columns]"
            ]
          },
          "metadata": {
            "tags": []
          },
          "execution_count": 81
        }
      ]
    },
    {
      "cell_type": "code",
      "metadata": {
        "id": "KpAHsWjvL6nX"
      },
      "source": [
        "# droping quasi constants \n",
        "X_testing_data.drop(columns=quasi_constants, inplace=True)"
      ],
      "id": "KpAHsWjvL6nX",
      "execution_count": null,
      "outputs": []
    },
    {
      "cell_type": "code",
      "metadata": {
        "id": "5Xcjn3pombYn"
      },
      "source": [
        "# Droping features with high correlation\n",
        "X_testing_data.drop(columns=['posting_date_month', 'posting_date_month', 'due_in_date_month', 'document_create_date_quarter', 'document_create_date_month', 'baseline_create_date_month', 'baseline_create_date_quarter'], inplace=True)"
      ],
      "id": "5Xcjn3pombYn",
      "execution_count": null,
      "outputs": []
    },
    {
      "cell_type": "code",
      "metadata": {
        "id": "MM9WaN4Ipxtb"
      },
      "source": [
        "# Normalizing the data in final testing set\n",
        "X_testing_data = normalization_scaler.transform(X_testing_data)"
      ],
      "id": "MM9WaN4Ipxtb",
      "execution_count": null,
      "outputs": []
    },
    {
      "cell_type": "code",
      "metadata": {
        "id": "ydUXVmBssjP4"
      },
      "source": [
        "# predicting the delay using the trained model\n",
        "# delay2 = decision_tree_regressor.predict(X_testing_data)\n",
        "# delay3 = svr.predict(X_testing_data)\n",
        "predictions = xgb_regressor.predict(X_testing_data)"
      ],
      "id": "ydUXVmBssjP4",
      "execution_count": null,
      "outputs": []
    },
    {
      "cell_type": "code",
      "metadata": {
        "colab": {
          "base_uri": "https://localhost:8080/",
          "height": 417
        },
        "id": "6--dbsA-uMuc",
        "outputId": "70b2f70d-1067-42b2-b84c-564a218f2413"
      },
      "source": [
        "delay = pd.DataFrame(pd.to_timedelta(predictions, unit='D'), columns=['delay'])\n",
        "delay['delay'] = delay['delay'].dt.round('d')\n",
        "bucket = []\n",
        "for time in predictions:\n",
        "\n",
        "    nearest_multimple = 15 * round(time / 15)\n",
        "    if time < 0 or nearest_multimple == 0:\n",
        "        bucket += '0-15',\n",
        "\n",
        "    elif time <= nearest_multimple:\n",
        "        bucket += f'{nearest_multimple-15}-{nearest_multimple}',\n",
        "    \n",
        "    else:\n",
        "        bucket += f'{nearest_multimple+1}-{nearest_multimple+15}',\n",
        "\n",
        "delay['Bucket'] = bucket\n",
        "delay"
      ],
      "id": "6--dbsA-uMuc",
      "execution_count": null,
      "outputs": [
        {
          "output_type": "execute_result",
          "data": {
            "text/html": [
              "<div>\n",
              "<style scoped>\n",
              "    .dataframe tbody tr th:only-of-type {\n",
              "        vertical-align: middle;\n",
              "    }\n",
              "\n",
              "    .dataframe tbody tr th {\n",
              "        vertical-align: top;\n",
              "    }\n",
              "\n",
              "    .dataframe thead th {\n",
              "        text-align: right;\n",
              "    }\n",
              "</style>\n",
              "<table border=\"1\" class=\"dataframe\">\n",
              "  <thead>\n",
              "    <tr style=\"text-align: right;\">\n",
              "      <th></th>\n",
              "      <th>delay</th>\n",
              "      <th>Bucket</th>\n",
              "    </tr>\n",
              "  </thead>\n",
              "  <tbody>\n",
              "    <tr>\n",
              "      <th>0</th>\n",
              "      <td>0 days</td>\n",
              "      <td>0-15</td>\n",
              "    </tr>\n",
              "    <tr>\n",
              "      <th>1</th>\n",
              "      <td>-2 days</td>\n",
              "      <td>0-15</td>\n",
              "    </tr>\n",
              "    <tr>\n",
              "      <th>2</th>\n",
              "      <td>5 days</td>\n",
              "      <td>0-15</td>\n",
              "    </tr>\n",
              "    <tr>\n",
              "      <th>3</th>\n",
              "      <td>-10 days</td>\n",
              "      <td>0-15</td>\n",
              "    </tr>\n",
              "    <tr>\n",
              "      <th>4</th>\n",
              "      <td>0 days</td>\n",
              "      <td>0-15</td>\n",
              "    </tr>\n",
              "    <tr>\n",
              "      <th>...</th>\n",
              "      <td>...</td>\n",
              "      <td>...</td>\n",
              "    </tr>\n",
              "    <tr>\n",
              "      <th>9995</th>\n",
              "      <td>1 days</td>\n",
              "      <td>0-15</td>\n",
              "    </tr>\n",
              "    <tr>\n",
              "      <th>9996</th>\n",
              "      <td>1 days</td>\n",
              "      <td>0-15</td>\n",
              "    </tr>\n",
              "    <tr>\n",
              "      <th>9997</th>\n",
              "      <td>5 days</td>\n",
              "      <td>0-15</td>\n",
              "    </tr>\n",
              "    <tr>\n",
              "      <th>9998</th>\n",
              "      <td>7 days</td>\n",
              "      <td>0-15</td>\n",
              "    </tr>\n",
              "    <tr>\n",
              "      <th>9999</th>\n",
              "      <td>7 days</td>\n",
              "      <td>0-15</td>\n",
              "    </tr>\n",
              "  </tbody>\n",
              "</table>\n",
              "<p>10000 rows × 2 columns</p>\n",
              "</div>"
            ],
            "text/plain": [
              "        delay Bucket\n",
              "0      0 days   0-15\n",
              "1     -2 days   0-15\n",
              "2      5 days   0-15\n",
              "3    -10 days   0-15\n",
              "4      0 days   0-15\n",
              "...       ...    ...\n",
              "9995   1 days   0-15\n",
              "9996   1 days   0-15\n",
              "9997   5 days   0-15\n",
              "9998   7 days   0-15\n",
              "9999   7 days   0-15\n",
              "\n",
              "[10000 rows x 2 columns]"
            ]
          },
          "metadata": {
            "tags": []
          },
          "execution_count": 86
        }
      ]
    },
    {
      "cell_type": "code",
      "metadata": {
        "colab": {
          "base_uri": "https://localhost:8080/",
          "height": 622
        },
        "id": "ST7xB2xRf8KN",
        "outputId": "00f2ec48-1803-423e-8f86-fbdaba1f94ba"
      },
      "source": [
        "testing_data.reset_index(drop=True,inplace=True)\n",
        "testing_data['clear_data'] = pd.to_datetime(testing_data['due_in_date'], format='%Y%m%d') + delay['delay']\n",
        "final = testing_data.merge(delay , on = testing_data.index).drop(columns=['key_0'])\n",
        "final"
      ],
      "id": "ST7xB2xRf8KN",
      "execution_count": null,
      "outputs": [
        {
          "output_type": "execute_result",
          "data": {
            "text/html": [
              "<div>\n",
              "<style scoped>\n",
              "    .dataframe tbody tr th:only-of-type {\n",
              "        vertical-align: middle;\n",
              "    }\n",
              "\n",
              "    .dataframe tbody tr th {\n",
              "        vertical-align: top;\n",
              "    }\n",
              "\n",
              "    .dataframe thead th {\n",
              "        text-align: right;\n",
              "    }\n",
              "</style>\n",
              "<table border=\"1\" class=\"dataframe\">\n",
              "  <thead>\n",
              "    <tr style=\"text-align: right;\">\n",
              "      <th></th>\n",
              "      <th>business_code</th>\n",
              "      <th>cust_number</th>\n",
              "      <th>name_customer</th>\n",
              "      <th>buisness_year</th>\n",
              "      <th>doc_id</th>\n",
              "      <th>posting_date</th>\n",
              "      <th>document_create_date</th>\n",
              "      <th>document_create_date.1</th>\n",
              "      <th>due_in_date</th>\n",
              "      <th>invoice_currency</th>\n",
              "      <th>document type</th>\n",
              "      <th>posting_id</th>\n",
              "      <th>total_open_amount</th>\n",
              "      <th>baseline_create_date</th>\n",
              "      <th>cust_payment_terms</th>\n",
              "      <th>invoice_id</th>\n",
              "      <th>isOpen</th>\n",
              "      <th>clear_data</th>\n",
              "      <th>delay</th>\n",
              "      <th>Bucket</th>\n",
              "    </tr>\n",
              "  </thead>\n",
              "  <tbody>\n",
              "    <tr>\n",
              "      <th>0</th>\n",
              "      <td>CA02</td>\n",
              "      <td>0140106347</td>\n",
              "      <td>F J W foundation</td>\n",
              "      <td>2020.0</td>\n",
              "      <td>2.960625e+09</td>\n",
              "      <td>2020-03-29</td>\n",
              "      <td>20200329</td>\n",
              "      <td>20200329</td>\n",
              "      <td>20200415.0</td>\n",
              "      <td>CAD</td>\n",
              "      <td>RV</td>\n",
              "      <td>1.0</td>\n",
              "      <td>15395.49</td>\n",
              "      <td>20200405.0</td>\n",
              "      <td>CA10</td>\n",
              "      <td>2.960625e+09</td>\n",
              "      <td>1</td>\n",
              "      <td>2020-04-15</td>\n",
              "      <td>0 days</td>\n",
              "      <td>0-15</td>\n",
              "    </tr>\n",
              "    <tr>\n",
              "      <th>1</th>\n",
              "      <td>U001</td>\n",
              "      <td>0200936373</td>\n",
              "      <td>SUPE trust</td>\n",
              "      <td>2020.0</td>\n",
              "      <td>1.930704e+09</td>\n",
              "      <td>2020-03-25</td>\n",
              "      <td>20200325</td>\n",
              "      <td>20200325</td>\n",
              "      <td>20200409.0</td>\n",
              "      <td>USD</td>\n",
              "      <td>RV</td>\n",
              "      <td>1.0</td>\n",
              "      <td>39025.63</td>\n",
              "      <td>20200325.0</td>\n",
              "      <td>NAA8</td>\n",
              "      <td>1.930704e+09</td>\n",
              "      <td>1</td>\n",
              "      <td>2020-04-07</td>\n",
              "      <td>-2 days</td>\n",
              "      <td>0-15</td>\n",
              "    </tr>\n",
              "    <tr>\n",
              "      <th>2</th>\n",
              "      <td>U001</td>\n",
              "      <td>0200794332</td>\n",
              "      <td>COST foundation</td>\n",
              "      <td>2020.0</td>\n",
              "      <td>1.930646e+09</td>\n",
              "      <td>2020-03-15</td>\n",
              "      <td>20200312</td>\n",
              "      <td>20200315</td>\n",
              "      <td>20200330.0</td>\n",
              "      <td>USD</td>\n",
              "      <td>RV</td>\n",
              "      <td>1.0</td>\n",
              "      <td>7071.83</td>\n",
              "      <td>20200315.0</td>\n",
              "      <td>NAAX</td>\n",
              "      <td>1.930646e+09</td>\n",
              "      <td>1</td>\n",
              "      <td>2020-04-04</td>\n",
              "      <td>5 days</td>\n",
              "      <td>0-15</td>\n",
              "    </tr>\n",
              "    <tr>\n",
              "      <th>3</th>\n",
              "      <td>U001</td>\n",
              "      <td>0200769623</td>\n",
              "      <td>WAL-MAR us</td>\n",
              "      <td>2020.0</td>\n",
              "      <td>1.930801e+09</td>\n",
              "      <td>2020-04-19</td>\n",
              "      <td>20200419</td>\n",
              "      <td>20200419</td>\n",
              "      <td>20200504.0</td>\n",
              "      <td>USD</td>\n",
              "      <td>RV</td>\n",
              "      <td>1.0</td>\n",
              "      <td>11447.55</td>\n",
              "      <td>20200419.0</td>\n",
              "      <td>NAH4</td>\n",
              "      <td>1.930801e+09</td>\n",
              "      <td>1</td>\n",
              "      <td>2020-04-24</td>\n",
              "      <td>-10 days</td>\n",
              "      <td>0-15</td>\n",
              "    </tr>\n",
              "    <tr>\n",
              "      <th>4</th>\n",
              "      <td>U001</td>\n",
              "      <td>0200706844</td>\n",
              "      <td>WINC in</td>\n",
              "      <td>2020.0</td>\n",
              "      <td>1.930689e+09</td>\n",
              "      <td>2020-03-23</td>\n",
              "      <td>20200323</td>\n",
              "      <td>20200323</td>\n",
              "      <td>20200407.0</td>\n",
              "      <td>USD</td>\n",
              "      <td>RV</td>\n",
              "      <td>1.0</td>\n",
              "      <td>50073.85</td>\n",
              "      <td>20200323.0</td>\n",
              "      <td>NAA8</td>\n",
              "      <td>1.930689e+09</td>\n",
              "      <td>1</td>\n",
              "      <td>2020-04-07</td>\n",
              "      <td>0 days</td>\n",
              "      <td>0-15</td>\n",
              "    </tr>\n",
              "    <tr>\n",
              "      <th>...</th>\n",
              "      <td>...</td>\n",
              "      <td>...</td>\n",
              "      <td>...</td>\n",
              "      <td>...</td>\n",
              "      <td>...</td>\n",
              "      <td>...</td>\n",
              "      <td>...</td>\n",
              "      <td>...</td>\n",
              "      <td>...</td>\n",
              "      <td>...</td>\n",
              "      <td>...</td>\n",
              "      <td>...</td>\n",
              "      <td>...</td>\n",
              "      <td>...</td>\n",
              "      <td>...</td>\n",
              "      <td>...</td>\n",
              "      <td>...</td>\n",
              "      <td>...</td>\n",
              "      <td>...</td>\n",
              "      <td>...</td>\n",
              "    </tr>\n",
              "    <tr>\n",
              "      <th>9995</th>\n",
              "      <td>U001</td>\n",
              "      <td>0200704045</td>\n",
              "      <td>RA foundation</td>\n",
              "      <td>2020.0</td>\n",
              "      <td>1.930649e+09</td>\n",
              "      <td>2020-03-13</td>\n",
              "      <td>20200313</td>\n",
              "      <td>20200313</td>\n",
              "      <td>20200328.0</td>\n",
              "      <td>USD</td>\n",
              "      <td>RV</td>\n",
              "      <td>1.0</td>\n",
              "      <td>27572.55</td>\n",
              "      <td>20200313.0</td>\n",
              "      <td>NAA8</td>\n",
              "      <td>1.930649e+09</td>\n",
              "      <td>1</td>\n",
              "      <td>2020-03-29</td>\n",
              "      <td>1 days</td>\n",
              "      <td>0-15</td>\n",
              "    </tr>\n",
              "    <tr>\n",
              "      <th>9996</th>\n",
              "      <td>U001</td>\n",
              "      <td>0200794332</td>\n",
              "      <td>COST llc</td>\n",
              "      <td>2020.0</td>\n",
              "      <td>1.930624e+09</td>\n",
              "      <td>2020-03-05</td>\n",
              "      <td>20200309</td>\n",
              "      <td>20200305</td>\n",
              "      <td>20200320.0</td>\n",
              "      <td>USD</td>\n",
              "      <td>RV</td>\n",
              "      <td>1.0</td>\n",
              "      <td>45998.41</td>\n",
              "      <td>20200305.0</td>\n",
              "      <td>NAAX</td>\n",
              "      <td>1.930624e+09</td>\n",
              "      <td>1</td>\n",
              "      <td>2020-03-21</td>\n",
              "      <td>1 days</td>\n",
              "      <td>0-15</td>\n",
              "    </tr>\n",
              "    <tr>\n",
              "      <th>9997</th>\n",
              "      <td>U001</td>\n",
              "      <td>0200769623</td>\n",
              "      <td>WAL-MAR systems</td>\n",
              "      <td>2020.0</td>\n",
              "      <td>1.930768e+09</td>\n",
              "      <td>2020-04-09</td>\n",
              "      <td>20200409</td>\n",
              "      <td>20200409</td>\n",
              "      <td>20200424.0</td>\n",
              "      <td>USD</td>\n",
              "      <td>RV</td>\n",
              "      <td>1.0</td>\n",
              "      <td>43723.69</td>\n",
              "      <td>20200409.0</td>\n",
              "      <td>NAH4</td>\n",
              "      <td>1.930768e+09</td>\n",
              "      <td>1</td>\n",
              "      <td>2020-04-29</td>\n",
              "      <td>5 days</td>\n",
              "      <td>0-15</td>\n",
              "    </tr>\n",
              "    <tr>\n",
              "      <th>9998</th>\n",
              "      <td>U001</td>\n",
              "      <td>0200769623</td>\n",
              "      <td>WAL-MAR llc</td>\n",
              "      <td>2020.0</td>\n",
              "      <td>1.930619e+09</td>\n",
              "      <td>2020-03-08</td>\n",
              "      <td>20200307</td>\n",
              "      <td>20200308</td>\n",
              "      <td>20200323.0</td>\n",
              "      <td>USD</td>\n",
              "      <td>RV</td>\n",
              "      <td>1.0</td>\n",
              "      <td>71.11</td>\n",
              "      <td>20200308.0</td>\n",
              "      <td>NAH4</td>\n",
              "      <td>1.930619e+09</td>\n",
              "      <td>1</td>\n",
              "      <td>2020-03-30</td>\n",
              "      <td>7 days</td>\n",
              "      <td>0-15</td>\n",
              "    </tr>\n",
              "    <tr>\n",
              "      <th>9999</th>\n",
              "      <td>U001</td>\n",
              "      <td>0200744019</td>\n",
              "      <td>TARG corp</td>\n",
              "      <td>2020.0</td>\n",
              "      <td>1.930793e+09</td>\n",
              "      <td>2020-04-16</td>\n",
              "      <td>20200416</td>\n",
              "      <td>20200416</td>\n",
              "      <td>20200501.0</td>\n",
              "      <td>USD</td>\n",
              "      <td>RV</td>\n",
              "      <td>1.0</td>\n",
              "      <td>54760.79</td>\n",
              "      <td>20200416.0</td>\n",
              "      <td>NAA8</td>\n",
              "      <td>1.930793e+09</td>\n",
              "      <td>1</td>\n",
              "      <td>2020-05-08</td>\n",
              "      <td>7 days</td>\n",
              "      <td>0-15</td>\n",
              "    </tr>\n",
              "  </tbody>\n",
              "</table>\n",
              "<p>10000 rows × 20 columns</p>\n",
              "</div>"
            ],
            "text/plain": [
              "     business_code cust_number     name_customer  ...  clear_data    delay Bucket\n",
              "0             CA02  0140106347  F J W foundation  ...  2020-04-15   0 days   0-15\n",
              "1             U001  0200936373        SUPE trust  ...  2020-04-07  -2 days   0-15\n",
              "2             U001  0200794332   COST foundation  ...  2020-04-04   5 days   0-15\n",
              "3             U001  0200769623        WAL-MAR us  ...  2020-04-24 -10 days   0-15\n",
              "4             U001  0200706844           WINC in  ...  2020-04-07   0 days   0-15\n",
              "...            ...         ...               ...  ...         ...      ...    ...\n",
              "9995          U001  0200704045     RA foundation  ...  2020-03-29   1 days   0-15\n",
              "9996          U001  0200794332          COST llc  ...  2020-03-21   1 days   0-15\n",
              "9997          U001  0200769623   WAL-MAR systems  ...  2020-04-29   5 days   0-15\n",
              "9998          U001  0200769623       WAL-MAR llc  ...  2020-03-30   7 days   0-15\n",
              "9999          U001  0200744019         TARG corp  ...  2020-05-08   7 days   0-15\n",
              "\n",
              "[10000 rows x 20 columns]"
            ]
          },
          "metadata": {
            "tags": []
          },
          "execution_count": 87
        }
      ]
    }
  ]
}